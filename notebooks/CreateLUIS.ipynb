{
 "cells": [
  {
   "cell_type": "code",
   "execution_count": 1,
   "metadata": {},
   "outputs": [],
   "source": [
    "from azure.cognitiveservices.language.luis.authoring import LUISAuthoringClient\n",
    "from azure.cognitiveservices.language.luis.authoring.models import ApplicationCreateObject, ExampleLabelObject\n",
    "from azure.cognitiveservices.language.luis.runtime import LUISRuntimeClient\n",
    "from msrest.authentication import CognitiveServicesCredentials\n",
    "from functools import reduce\n",
    "\n",
    "import json, time, uuid\n",
    "\n",
    "import keys\n",
    "\n",
    "import re"
   ]
  },
  {
   "cell_type": "code",
   "execution_count": 2,
   "metadata": {},
   "outputs": [],
   "source": [
    "authoringKey = keys.authoringKey\n",
    "authoringEndpoint = keys.authoringEndpoint\n",
    "predictionKey = keys.predictionKey\n",
    "predictionEndpoint = keys.predictionEndpoint"
   ]
  },
  {
   "cell_type": "code",
   "execution_count": 4,
   "metadata": {},
   "outputs": [],
   "source": [
    "client = LUISAuthoringClient(authoringEndpoint, CognitiveServicesCredentials(authoringKey))"
   ]
  },
  {
   "cell_type": "code",
   "execution_count": 5,
   "metadata": {},
   "outputs": [
    {
     "name": "stdout",
     "output_type": "stream",
     "text": [
      "Created app.\n"
     ]
    }
   ],
   "source": [
    "app_id = client.apps.add({\n",
    "            'name': \"FlyMe\",\n",
    "            'initial_version_id':  \"0.1\",\n",
    "            'description': \"Flight booking chatbot app\",\n",
    "            'culture': 'en-us',\n",
    "        })\n",
    "\n",
    "print(\"Created app.\")"
   ]
  },
  {
   "cell_type": "code",
   "execution_count": 3,
   "metadata": {},
   "outputs": [],
   "source": [
    "app_id = \"db70b5ef-3103-46a0-aa92-7cbfd39c1439\""
   ]
  },
  {
   "cell_type": "code",
   "execution_count": 5,
   "metadata": {},
   "outputs": [],
   "source": [
    "luis_app = client.apps.get(app_id=app_id)\n",
    "\n",
    "app_version = luis_app.active_version"
   ]
  },
  {
   "cell_type": "code",
   "execution_count": 7,
   "metadata": {},
   "outputs": [],
   "source": [
    "entities = ['or_city', 'dst_city', 'str_date', 'end_date', 'budget']\n",
    "prebuilt_entities = ['datetimeV2']\n"
   ]
  },
  {
   "cell_type": "code",
   "execution_count": 8,
   "metadata": {},
   "outputs": [
    {
     "name": "stdout",
     "output_type": "stream",
     "text": [
      "Added intent BookFlight\n"
     ]
    }
   ],
   "source": [
    "# Create intent into the model\n",
    "intent_name = \"BookFlight\"\n",
    "\n",
    "client.model.add_intent(app_id, \"0.1\", \"BookFlight\")\n",
    "print(\"Added intent BookFlight\")"
   ]
  },
  {
   "cell_type": "code",
   "execution_count": 9,
   "metadata": {},
   "outputs": [
    {
     "name": "stdout",
     "output_type": "stream",
     "text": [
      "Added prebuilt entity datetimeV2\n"
     ]
    }
   ],
   "source": [
    "# add a prebuilt entity \"datetimeV2\" to the model\n",
    "\n",
    "client.model.add_prebuilt(\n",
    "    app_id=app_id,\n",
    "    version_id=app_version,\n",
    "    prebuilt_extractor_names=[\"datetimeV2\"]\n",
    ")\n",
    "print(\"Added prebuilt entity datetimeV2\")"
   ]
  },
  {
   "cell_type": "code",
   "execution_count": 11,
   "metadata": {},
   "outputs": [
    {
     "name": "stdout",
     "output_type": "stream",
     "text": [
      "Added entity or_city\n",
      "Added entity dst_city\n",
      "Added entity str_date\n",
      "Added entity end_date\n",
      "Added entity budget\n"
     ]
    }
   ],
   "source": [
    "# Create entities and entity features into the model\n",
    "for entity in entities:\n",
    "    client.model.add_entity(app_id, \"0.1\", name=entity)\n",
    "    print(\"Added entity {}\".format(entity))"
   ]
  },
  {
   "cell_type": "code",
   "execution_count": 12,
   "metadata": {},
   "outputs": [],
   "source": [
    "with open(\"../data/train.json\") as f:\n",
    "    train_data = json.load(f)\n",
    "\n",
    "# send the training data to the service in chunks of 100\n",
    "\n",
    "for i in range(0, len(train_data), 100):\n",
    "    j = i + 100\n",
    "    if j > len(train_data):\n",
    "        j = len(train_data)\n",
    "\n",
    "        client.examples.batch(\n",
    "                    app_id,\n",
    "                    app_version,\n",
    "                    train_data[i:j]\n",
    "                )"
   ]
  },
  {
   "cell_type": "code",
   "execution_count": 13,
   "metadata": {},
   "outputs": [
    {
     "name": "stdout",
     "output_type": "stream",
     "text": [
      "Your app is trained. You can now go to the LUIS portal and test it!\n"
     ]
    }
   ],
   "source": [
    "async_training = client.train.train_version(app_id, app_version)\n",
    "is_trained = async_training.status == \"UpToDate\"\n",
    "\n",
    "trained_status = [\"UpToDate\", \"Success\"]\n",
    "while not is_trained:\n",
    "    time.sleep(1)\n",
    "    status = client.train.get_status(app_id, app_version)\n",
    "    is_trained = all(\n",
    "        m.details.status in trained_status for m in status)\n",
    "\n",
    "print(\"Your app is trained. You can now go to the LUIS portal and test it!\")"
   ]
  },
  {
   "cell_type": "code",
   "execution_count": 15,
   "metadata": {},
   "outputs": [
    {
     "name": "stdout",
     "output_type": "stream",
     "text": [
      "The app is published.\n"
     ]
    }
   ],
   "source": [
    "# Publish the app\n",
    "client.apps.update_settings(app_id, is_public=True)\n",
    "publish_result = client.apps.publish(app_id, app_version, is_staging=False)\n",
    "\n",
    "endpoint = publish_result.endpoint_url + \\\n",
    "            \"?subscription-key=\" + predictionKey + \"&q=\"\n",
    "\n",
    "print(\"The app is published.\")"
   ]
  },
  {
   "cell_type": "code",
   "execution_count": 42,
   "metadata": {},
   "outputs": [
    {
     "name": "stdout",
     "output_type": "stream",
     "text": [
      "\n",
      "Detected intent: BookFlight\n",
      "Detected entities:\n",
      "\t-> Entity '['Strasbourg']' (type: or_city)\n",
      "\t-> Entity '['London']' (type: dst_city)\n",
      "\t-> Entity '[{'type': 'daterange', 'values': [{'timex': '(2019-10-10,2019-10-15,P5D)', 'resolution': [{'start': '2019-10-10', 'end': '2019-10-15'}]}]}]' (type: datetimeV2)\n",
      "\t-> Entity '['200 euros']' (type: budget)\n",
      "\n",
      "Complete result object as dictionnary\n",
      "{'query': 'I want to book a flight from Strasbourg to London from 10/10/2019 to 15/10/2019 for 200 euros', 'prediction': {'top_intent': 'BookFlight', 'intents': {'BookFlight': {'score': 0.99955165}}, 'entities': {'or_city': ['Strasbourg'], 'dst_city': ['London'], 'datetimeV2': [{'type': 'daterange', 'values': [{'timex': '(2019-10-10,2019-10-15,P5D)', 'resolution': [{'start': '2019-10-10', 'end': '2019-10-15'}]}]}], 'budget': ['200 euros']}}}\n"
     ]
    }
   ],
   "source": [
    "runtime_client = LUISRuntimeClient(predictionEndpoint, CognitiveServicesCredentials(predictionKey))\n",
    "\n",
    "request = {\n",
    "    \"query\" : \"I want to book a flight from Strasbourg to London from 10/10/2019 to 15/10/2019 for 200 euros\"\n",
    "}\n",
    "result = runtime_client.prediction.get_slot_prediction(app_id=app_id, slot_name=\"Production\", prediction_request=request)\n",
    "\n",
    "print(\"\\nDetected intent: {}\".format(\n",
    "            result.prediction.top_intent\n",
    "        ))\n",
    "print(\"Detected entities:\")\n",
    "for entity in result.prediction.entities:\n",
    "    print(\"\\t-> Entity '{}' (type: {})\".format(\n",
    "        result.prediction.entities.get(entity),\n",
    "        entity\n",
    "    ))\n",
    "print(\"\\nComplete result object as dictionnary\")\n",
    "print(result.as_dict())"
   ]
  },
  {
   "attachments": {},
   "cell_type": "markdown",
   "metadata": {},
   "source": [
    "Since LUIS is not so good at extracting str_date and end_date, we create a function to extract these values using the datetimeV2 prebuilt entity and search_dates from dateparser."
   ]
  },
  {
   "cell_type": "code",
   "execution_count": 59,
   "metadata": {},
   "outputs": [
    {
     "name": "stdout",
     "output_type": "stream",
     "text": [
      "Start date: 2019-10-10\n",
      "End date: 2019-10-15\n"
     ]
    }
   ],
   "source": [
    "def date_extractor(luis_res):\n",
    "    res_dict = luis_res.as_dict()\n",
    "    dt = res_dict['prediction']['entities'].get('datetimeV2')\n",
    "\n",
    "    if dt[0]['type'] == 'daterange':\n",
    "        print(\"Start date: {}\".format(dt[0].get('values')[0].get('resolution')[0].get('start')))\n",
    "        print(\"End date: {}\".format(dt[0].get('values')[0].get('resolution')[0].get('end')))\n",
    "\n",
    "date_extractor(result)"
   ]
  },
  {
   "attachments": {},
   "cell_type": "markdown",
   "metadata": {},
   "source": [
    "## Evaluating the model"
   ]
  },
  {
   "cell_type": "code",
   "execution_count": 45,
   "metadata": {},
   "outputs": [],
   "source": [
    "import json"
   ]
  },
  {
   "cell_type": "code",
   "execution_count": 9,
   "metadata": {},
   "outputs": [],
   "source": [
    "runtime_client = LUISRuntimeClient(predictionEndpoint, CognitiveServicesCredentials(predictionKey))"
   ]
  },
  {
   "cell_type": "code",
   "execution_count": 16,
   "metadata": {},
   "outputs": [],
   "source": [
    "import requests"
   ]
  },
  {
   "cell_type": "code",
   "execution_count": 78,
   "metadata": {},
   "outputs": [
    {
     "data": {
      "text/plain": [
       "<Response [202]>"
      ]
     },
     "execution_count": 78,
     "metadata": {},
     "output_type": "execute_result"
    }
   ],
   "source": [
    "url = predictionEndpoint + \"luis/v3.0-preview/apps/\" + app_id + \"/versions/\" + app_version + \"/evaluations\"\n",
    "body = test_data\n",
    "resp = requests.post(url, json=val_batch, headers={'Ocp-Apim-Subscription-Key': predictionKey, 'Content-Type': 'application/json'} )\n",
    "resp"
   ]
  },
  {
   "cell_type": "code",
   "execution_count": 79,
   "metadata": {},
   "outputs": [
    {
     "data": {
      "text/plain": [
       "'{\"operationId\":\"cdc5495c-4b3b-42d6-b57b-d7a29e0fd239_638133120000000000\",\"status\":\"notstarted\",\"createdDateTime\":\"03/02/2023 17:30:51\",\"lastActionDateTime\":\"03/02/2023 17:30:51\"}'"
      ]
     },
     "execution_count": 79,
     "metadata": {},
     "output_type": "execute_result"
    }
   ],
   "source": [
    "resp.text"
   ]
  },
  {
   "cell_type": "code",
   "execution_count": 33,
   "metadata": {},
   "outputs": [
    {
     "data": {
      "text/plain": [
       "'https://luisp10.cognitiveservices.azure.com//luis/v3.0-preview/apps/db70b5ef-3103-46a0-aa92-7cbfd39c1439/versions/0.1/evaluations'"
      ]
     },
     "execution_count": 33,
     "metadata": {},
     "output_type": "execute_result"
    }
   ],
   "source": []
  },
  {
   "cell_type": "code",
   "execution_count": 13,
   "metadata": {},
   "outputs": [
    {
     "ename": "SerializationError",
     "evalue": "Unable to build a model: Unable to deserialize to object: type, AttributeError: 'dict' object has no attribute 'lower', DeserializationError: Unable to deserialize to object: type, AttributeError: 'dict' object has no attribute 'lower'",
     "output_type": "error",
     "traceback": [
      "\u001b[0;31m---------------------------------------------------------------------------\u001b[0m",
      "\u001b[0;31mAttributeError\u001b[0m                            Traceback (most recent call last)",
      "File \u001b[0;32m~/.local/lib/python3.10/site-packages/msrest/serialization.py:1428\u001b[0m, in \u001b[0;36mDeserializer._deserialize\u001b[0;34m(self, target_obj, data)\u001b[0m\n\u001b[1;32m   1427\u001b[0m \u001b[39mfor\u001b[39;00m key_extractor \u001b[39min\u001b[39;00m \u001b[39mself\u001b[39m\u001b[39m.\u001b[39mkey_extractors:\n\u001b[0;32m-> 1428\u001b[0m     found_value \u001b[39m=\u001b[39m key_extractor(attr, attr_desc, data)\n\u001b[1;32m   1429\u001b[0m     \u001b[39mif\u001b[39;00m found_value \u001b[39mis\u001b[39;00m \u001b[39mnot\u001b[39;00m \u001b[39mNone\u001b[39;00m:\n",
      "File \u001b[0;32m~/.local/lib/python3.10/site-packages/msrest/serialization.py:1193\u001b[0m, in \u001b[0;36mrest_key_case_insensitive_extractor\u001b[0;34m(attr, attr_desc, data)\u001b[0m\n\u001b[1;32m   1192\u001b[0m \u001b[39mif\u001b[39;00m working_data:\n\u001b[0;32m-> 1193\u001b[0m     \u001b[39mreturn\u001b[39;00m attribute_key_case_insensitive_extractor(key, \u001b[39mNone\u001b[39;49;00m, working_data)\n",
      "File \u001b[0;32m~/.local/lib/python3.10/site-packages/msrest/serialization.py:1218\u001b[0m, in \u001b[0;36mattribute_key_case_insensitive_extractor\u001b[0;34m(attr, _, data)\u001b[0m\n\u001b[1;32m   1217\u001b[0m \u001b[39mfor\u001b[39;00m key \u001b[39min\u001b[39;00m data:\n\u001b[0;32m-> 1218\u001b[0m     \u001b[39mif\u001b[39;00m lower_attr \u001b[39m==\u001b[39m key\u001b[39m.\u001b[39;49mlower():\n\u001b[1;32m   1219\u001b[0m         found_key \u001b[39m=\u001b[39m key\n",
      "\u001b[0;31mAttributeError\u001b[0m: 'dict' object has no attribute 'lower'",
      "\nDuring handling of the above exception, another exception occurred:\n",
      "\u001b[0;31mDeserializationError\u001b[0m                      Traceback (most recent call last)",
      "File \u001b[0;32m~/.local/lib/python3.10/site-packages/msrest/serialization.py:620\u001b[0m, in \u001b[0;36mSerializer.body\u001b[0;34m(self, data, data_type, **kwargs)\u001b[0m\n\u001b[1;32m    615\u001b[0m         deserializer\u001b[39m.\u001b[39mkey_extractors \u001b[39m=\u001b[39m [\n\u001b[1;32m    616\u001b[0m             rest_key_case_insensitive_extractor,\n\u001b[1;32m    617\u001b[0m             attribute_key_case_insensitive_extractor,\n\u001b[1;32m    618\u001b[0m             last_rest_key_case_insensitive_extractor\n\u001b[1;32m    619\u001b[0m         ]\n\u001b[0;32m--> 620\u001b[0m     data \u001b[39m=\u001b[39m deserializer\u001b[39m.\u001b[39;49m_deserialize(data_type, data)\n\u001b[1;32m    621\u001b[0m \u001b[39mexcept\u001b[39;00m DeserializationError \u001b[39mas\u001b[39;00m err:\n",
      "File \u001b[0;32m~/.local/lib/python3.10/site-packages/msrest/serialization.py:1446\u001b[0m, in \u001b[0;36mDeserializer._deserialize\u001b[0;34m(self, target_obj, data)\u001b[0m\n\u001b[1;32m   1445\u001b[0m     msg \u001b[39m=\u001b[39m \u001b[39m\"\u001b[39m\u001b[39mUnable to deserialize to object: \u001b[39m\u001b[39m\"\u001b[39m \u001b[39m+\u001b[39m class_name\n\u001b[0;32m-> 1446\u001b[0m     raise_with_traceback(DeserializationError, msg, err)\n\u001b[1;32m   1447\u001b[0m \u001b[39melse\u001b[39;00m:\n",
      "File \u001b[0;32m~/.local/lib/python3.10/site-packages/msrest/exceptions.py:51\u001b[0m, in \u001b[0;36mraise_with_traceback\u001b[0;34m(exception, message, *args, **kwargs)\u001b[0m\n\u001b[1;32m     50\u001b[0m \u001b[39mtry\u001b[39;00m:\n\u001b[0;32m---> 51\u001b[0m     \u001b[39mraise\u001b[39;00m error\u001b[39m.\u001b[39mwith_traceback(exc_traceback)\n\u001b[1;32m     52\u001b[0m \u001b[39mexcept\u001b[39;00m \u001b[39mAttributeError\u001b[39;00m:\n",
      "File \u001b[0;32m~/.local/lib/python3.10/site-packages/msrest/serialization.py:1428\u001b[0m, in \u001b[0;36mDeserializer._deserialize\u001b[0;34m(self, target_obj, data)\u001b[0m\n\u001b[1;32m   1427\u001b[0m \u001b[39mfor\u001b[39;00m key_extractor \u001b[39min\u001b[39;00m \u001b[39mself\u001b[39m\u001b[39m.\u001b[39mkey_extractors:\n\u001b[0;32m-> 1428\u001b[0m     found_value \u001b[39m=\u001b[39m key_extractor(attr, attr_desc, data)\n\u001b[1;32m   1429\u001b[0m     \u001b[39mif\u001b[39;00m found_value \u001b[39mis\u001b[39;00m \u001b[39mnot\u001b[39;00m \u001b[39mNone\u001b[39;00m:\n",
      "File \u001b[0;32m~/.local/lib/python3.10/site-packages/msrest/serialization.py:1193\u001b[0m, in \u001b[0;36mrest_key_case_insensitive_extractor\u001b[0;34m(attr, attr_desc, data)\u001b[0m\n\u001b[1;32m   1192\u001b[0m \u001b[39mif\u001b[39;00m working_data:\n\u001b[0;32m-> 1193\u001b[0m     \u001b[39mreturn\u001b[39;00m attribute_key_case_insensitive_extractor(key, \u001b[39mNone\u001b[39;49;00m, working_data)\n",
      "File \u001b[0;32m~/.local/lib/python3.10/site-packages/msrest/serialization.py:1218\u001b[0m, in \u001b[0;36mattribute_key_case_insensitive_extractor\u001b[0;34m(attr, _, data)\u001b[0m\n\u001b[1;32m   1217\u001b[0m \u001b[39mfor\u001b[39;00m key \u001b[39min\u001b[39;00m data:\n\u001b[0;32m-> 1218\u001b[0m     \u001b[39mif\u001b[39;00m lower_attr \u001b[39m==\u001b[39m key\u001b[39m.\u001b[39;49mlower():\n\u001b[1;32m   1219\u001b[0m         found_key \u001b[39m=\u001b[39m key\n",
      "\u001b[0;31mDeserializationError\u001b[0m: Unable to deserialize to object: type, AttributeError: 'dict' object has no attribute 'lower'",
      "\nDuring handling of the above exception, another exception occurred:\n",
      "\u001b[0;31mSerializationError\u001b[0m                        Traceback (most recent call last)",
      "Cell \u001b[0;32mIn[13], line 1\u001b[0m\n\u001b[0;32m----> 1\u001b[0m response \u001b[39m=\u001b[39m runtime_client\u001b[39m.\u001b[39;49mprediction\u001b[39m.\u001b[39;49mget_slot_prediction(app_id\u001b[39m=\u001b[39;49mapp_id, slot_name\u001b[39m=\u001b[39;49m\u001b[39m\"\u001b[39;49m\u001b[39mProduction\u001b[39;49m\u001b[39m\"\u001b[39;49m, prediction_request \u001b[39m=\u001b[39;49m test_data)\n",
      "File \u001b[0;32m~/.local/lib/python3.10/site-packages/azure/cognitiveservices/language/luis/runtime/operations/_prediction_operations.py:172\u001b[0m, in \u001b[0;36mPredictionOperations.get_slot_prediction\u001b[0;34m(self, app_id, slot_name, prediction_request, verbose, show_all_intents, log, custom_headers, raw, **operation_config)\u001b[0m\n\u001b[1;32m    169\u001b[0m     header_parameters\u001b[39m.\u001b[39mupdate(custom_headers)\n\u001b[1;32m    171\u001b[0m \u001b[39m# Construct body\u001b[39;00m\n\u001b[0;32m--> 172\u001b[0m body_content \u001b[39m=\u001b[39m \u001b[39mself\u001b[39;49m\u001b[39m.\u001b[39;49m_serialize\u001b[39m.\u001b[39;49mbody(prediction_request, \u001b[39m'\u001b[39;49m\u001b[39mPredictionRequest\u001b[39;49m\u001b[39m'\u001b[39;49m)\n\u001b[1;32m    174\u001b[0m \u001b[39m# Construct and send request\u001b[39;00m\n\u001b[1;32m    175\u001b[0m request \u001b[39m=\u001b[39m \u001b[39mself\u001b[39m\u001b[39m.\u001b[39m_client\u001b[39m.\u001b[39mpost(url, query_parameters, header_parameters, body_content)\n",
      "File \u001b[0;32m~/.local/lib/python3.10/site-packages/msrest/serialization.py:622\u001b[0m, in \u001b[0;36mSerializer.body\u001b[0;34m(self, data, data_type, **kwargs)\u001b[0m\n\u001b[1;32m    620\u001b[0m         data \u001b[39m=\u001b[39m deserializer\u001b[39m.\u001b[39m_deserialize(data_type, data)\n\u001b[1;32m    621\u001b[0m     \u001b[39mexcept\u001b[39;00m DeserializationError \u001b[39mas\u001b[39;00m err:\n\u001b[0;32m--> 622\u001b[0m         raise_with_traceback(\n\u001b[1;32m    623\u001b[0m             SerializationError, \u001b[39m\"\u001b[39;49m\u001b[39mUnable to build a model: \u001b[39;49m\u001b[39m\"\u001b[39;49m\u001b[39m+\u001b[39;49m\u001b[39mstr\u001b[39;49m(err), err)\n\u001b[1;32m    625\u001b[0m \u001b[39mif\u001b[39;00m \u001b[39mself\u001b[39m\u001b[39m.\u001b[39mclient_side_validation:\n\u001b[1;32m    626\u001b[0m     errors \u001b[39m=\u001b[39m _recursive_validate(data_type, data_type, data)\n",
      "File \u001b[0;32m~/.local/lib/python3.10/site-packages/msrest/exceptions.py:51\u001b[0m, in \u001b[0;36mraise_with_traceback\u001b[0;34m(exception, message, *args, **kwargs)\u001b[0m\n\u001b[1;32m     49\u001b[0m error \u001b[39m=\u001b[39m exception(exc_msg, \u001b[39m*\u001b[39margs, \u001b[39m*\u001b[39m\u001b[39m*\u001b[39mkwargs)\n\u001b[1;32m     50\u001b[0m \u001b[39mtry\u001b[39;00m:\n\u001b[0;32m---> 51\u001b[0m     \u001b[39mraise\u001b[39;00m error\u001b[39m.\u001b[39mwith_traceback(exc_traceback)\n\u001b[1;32m     52\u001b[0m \u001b[39mexcept\u001b[39;00m \u001b[39mAttributeError\u001b[39;00m:\n\u001b[1;32m     53\u001b[0m     error\u001b[39m.\u001b[39m__traceback__ \u001b[39m=\u001b[39m exc_traceback\n",
      "File \u001b[0;32m~/.local/lib/python3.10/site-packages/msrest/serialization.py:620\u001b[0m, in \u001b[0;36mSerializer.body\u001b[0;34m(self, data, data_type, **kwargs)\u001b[0m\n\u001b[1;32m    614\u001b[0m     \u001b[39melse\u001b[39;00m:\n\u001b[1;32m    615\u001b[0m         deserializer\u001b[39m.\u001b[39mkey_extractors \u001b[39m=\u001b[39m [\n\u001b[1;32m    616\u001b[0m             rest_key_case_insensitive_extractor,\n\u001b[1;32m    617\u001b[0m             attribute_key_case_insensitive_extractor,\n\u001b[1;32m    618\u001b[0m             last_rest_key_case_insensitive_extractor\n\u001b[1;32m    619\u001b[0m         ]\n\u001b[0;32m--> 620\u001b[0m     data \u001b[39m=\u001b[39m deserializer\u001b[39m.\u001b[39;49m_deserialize(data_type, data)\n\u001b[1;32m    621\u001b[0m \u001b[39mexcept\u001b[39;00m DeserializationError \u001b[39mas\u001b[39;00m err:\n\u001b[1;32m    622\u001b[0m     raise_with_traceback(\n\u001b[1;32m    623\u001b[0m         SerializationError, \u001b[39m\"\u001b[39m\u001b[39mUnable to build a model: \u001b[39m\u001b[39m\"\u001b[39m\u001b[39m+\u001b[39m\u001b[39mstr\u001b[39m(err), err)\n",
      "File \u001b[0;32m~/.local/lib/python3.10/site-packages/msrest/serialization.py:1446\u001b[0m, in \u001b[0;36mDeserializer._deserialize\u001b[0;34m(self, target_obj, data)\u001b[0m\n\u001b[1;32m   1444\u001b[0m \u001b[39mexcept\u001b[39;00m (\u001b[39mAttributeError\u001b[39;00m, \u001b[39mTypeError\u001b[39;00m, \u001b[39mKeyError\u001b[39;00m) \u001b[39mas\u001b[39;00m err:\n\u001b[1;32m   1445\u001b[0m     msg \u001b[39m=\u001b[39m \u001b[39m\"\u001b[39m\u001b[39mUnable to deserialize to object: \u001b[39m\u001b[39m\"\u001b[39m \u001b[39m+\u001b[39m class_name\n\u001b[0;32m-> 1446\u001b[0m     raise_with_traceback(DeserializationError, msg, err)\n\u001b[1;32m   1447\u001b[0m \u001b[39melse\u001b[39;00m:\n\u001b[1;32m   1448\u001b[0m     additional_properties \u001b[39m=\u001b[39m \u001b[39mself\u001b[39m\u001b[39m.\u001b[39m_build_additional_properties(attributes, data)\n",
      "File \u001b[0;32m~/.local/lib/python3.10/site-packages/msrest/exceptions.py:51\u001b[0m, in \u001b[0;36mraise_with_traceback\u001b[0;34m(exception, message, *args, **kwargs)\u001b[0m\n\u001b[1;32m     49\u001b[0m error \u001b[39m=\u001b[39m exception(exc_msg, \u001b[39m*\u001b[39margs, \u001b[39m*\u001b[39m\u001b[39m*\u001b[39mkwargs)\n\u001b[1;32m     50\u001b[0m \u001b[39mtry\u001b[39;00m:\n\u001b[0;32m---> 51\u001b[0m     \u001b[39mraise\u001b[39;00m error\u001b[39m.\u001b[39mwith_traceback(exc_traceback)\n\u001b[1;32m     52\u001b[0m \u001b[39mexcept\u001b[39;00m \u001b[39mAttributeError\u001b[39;00m:\n\u001b[1;32m     53\u001b[0m     error\u001b[39m.\u001b[39m__traceback__ \u001b[39m=\u001b[39m exc_traceback\n",
      "File \u001b[0;32m~/.local/lib/python3.10/site-packages/msrest/serialization.py:1428\u001b[0m, in \u001b[0;36mDeserializer._deserialize\u001b[0;34m(self, target_obj, data)\u001b[0m\n\u001b[1;32m   1425\u001b[0m     attr_desc[\u001b[39m\"\u001b[39m\u001b[39minternalType\u001b[39m\u001b[39m\"\u001b[39m] \u001b[39m=\u001b[39m \u001b[39mself\u001b[39m\u001b[39m.\u001b[39mdependencies[internal_data_type]\n\u001b[1;32m   1427\u001b[0m \u001b[39mfor\u001b[39;00m key_extractor \u001b[39min\u001b[39;00m \u001b[39mself\u001b[39m\u001b[39m.\u001b[39mkey_extractors:\n\u001b[0;32m-> 1428\u001b[0m     found_value \u001b[39m=\u001b[39m key_extractor(attr, attr_desc, data)\n\u001b[1;32m   1429\u001b[0m     \u001b[39mif\u001b[39;00m found_value \u001b[39mis\u001b[39;00m \u001b[39mnot\u001b[39;00m \u001b[39mNone\u001b[39;00m:\n\u001b[1;32m   1430\u001b[0m         \u001b[39mif\u001b[39;00m raw_value \u001b[39mis\u001b[39;00m \u001b[39mnot\u001b[39;00m \u001b[39mNone\u001b[39;00m \u001b[39mand\u001b[39;00m raw_value \u001b[39m!=\u001b[39m found_value:\n",
      "File \u001b[0;32m~/.local/lib/python3.10/site-packages/msrest/serialization.py:1193\u001b[0m, in \u001b[0;36mrest_key_case_insensitive_extractor\u001b[0;34m(attr, attr_desc, data)\u001b[0m\n\u001b[1;32m   1190\u001b[0m     key \u001b[39m=\u001b[39m \u001b[39m'\u001b[39m\u001b[39m.\u001b[39m\u001b[39m'\u001b[39m\u001b[39m.\u001b[39mjoin(dict_keys[\u001b[39m1\u001b[39m:])\n\u001b[1;32m   1192\u001b[0m \u001b[39mif\u001b[39;00m working_data:\n\u001b[0;32m-> 1193\u001b[0m     \u001b[39mreturn\u001b[39;00m attribute_key_case_insensitive_extractor(key, \u001b[39mNone\u001b[39;49;00m, working_data)\n",
      "File \u001b[0;32m~/.local/lib/python3.10/site-packages/msrest/serialization.py:1218\u001b[0m, in \u001b[0;36mattribute_key_case_insensitive_extractor\u001b[0;34m(attr, _, data)\u001b[0m\n\u001b[1;32m   1216\u001b[0m lower_attr \u001b[39m=\u001b[39m attr\u001b[39m.\u001b[39mlower()\n\u001b[1;32m   1217\u001b[0m \u001b[39mfor\u001b[39;00m key \u001b[39min\u001b[39;00m data:\n\u001b[0;32m-> 1218\u001b[0m     \u001b[39mif\u001b[39;00m lower_attr \u001b[39m==\u001b[39m key\u001b[39m.\u001b[39;49mlower():\n\u001b[1;32m   1219\u001b[0m         found_key \u001b[39m=\u001b[39m key\n\u001b[1;32m   1220\u001b[0m         \u001b[39mbreak\u001b[39;00m\n",
      "\u001b[0;31mSerializationError\u001b[0m: Unable to build a model: Unable to deserialize to object: type, AttributeError: 'dict' object has no attribute 'lower', DeserializationError: Unable to deserialize to object: type, AttributeError: 'dict' object has no attribute 'lower'"
     ]
    }
   ],
   "source": [
    "response = runtime_client.prediction.get_slot_prediction(app_id=app_id, slot_name=\"Production\", prediction_request = test_data)"
   ]
  },
  {
   "cell_type": "code",
   "execution_count": 87,
   "metadata": {},
   "outputs": [
    {
     "data": {
      "text/plain": [
       "{'text': \"hi! i'd like to go to boston from mos eisley on august 15th.\",\n",
       " 'intentName': 'BookFlight',\n",
       " 'entityLabels': [{'entityName': 'dst_city',\n",
       "   'startCharIndex': 22,\n",
       "   'endCharIndex': 28},\n",
       "  {'entityName': 'or_city', 'startCharIndex': 34, 'endCharIndex': 44},\n",
       "  {'entityName': 'str_date', 'startCharIndex': 48, 'endCharIndex': 59}]}"
      ]
     },
     "execution_count": 87,
     "metadata": {},
     "output_type": "execute_result"
    }
   ],
   "source": [
    "test_data[5]"
   ]
  },
  {
   "cell_type": "code",
   "execution_count": 88,
   "metadata": {},
   "outputs": [
    {
     "name": "stdout",
     "output_type": "stream",
     "text": [
      "{'query': \"hi! i'd like to go to boston from mos eisley on august 15th.\", 'prediction': {'top_intent': 'BookFlight', 'intents': {'BookFlight': {'score': 0.9990596}}, 'entities': {'dst_city': ['boston'], 'or_city': ['mos eisley'], 'datetimeV2': [{'type': 'date', 'values': [{'timex': 'XXXX-08-15', 'resolution': [{'value': '2022-08-15'}, {'value': '2023-08-15'}]}]}], 'str_date': ['august 15th.']}}}\n"
     ]
    }
   ],
   "source": [
    "request = {\n",
    "    \"query\" : test_data[5][\"text\"]\n",
    "}\n",
    "result = runtime_client.prediction.get_slot_prediction(app_id=app_id, slot_name=\"Production\", prediction_request=request)\n",
    "\n",
    "print(result.as_dict())"
   ]
  },
  {
   "cell_type": "code",
   "execution_count": 89,
   "metadata": {},
   "outputs": [],
   "source": [
    "true_y = test_data[5]\n",
    "pred_y = result.as_dict()"
   ]
  },
  {
   "cell_type": "code",
   "execution_count": 90,
   "metadata": {},
   "outputs": [
    {
     "name": "stdout",
     "output_type": "stream",
     "text": [
      "Name:  dst_city\n",
      "True value:  boston\n",
      "Predicted value:  boston\n",
      "Name:  or_city\n",
      "True value:  mos eisley\n",
      "Predicted value:  mos eisley\n",
      "Name:  str_date\n",
      "True value:  august 15th\n",
      "Predicted value:  august 15th\n"
     ]
    }
   ],
   "source": [
    "for entity in true_y.get('entityLabels'):\n",
    "\n",
    "    name = entity.get('entityName')\n",
    "    value = true_y.get('text')[entity.get('startCharIndex'):entity.get('endCharIndex')]\n",
    "\n",
    "    pred_value = re.sub(r'[^\\w\\s]','',pred_y.get('prediction').get('entities').get(name)[0])\n",
    "\n",
    "    print(\"Name: \", name)\n",
    "    print(\"True value: \", value)\n",
    "    print(\"Predicted value: \", pred_value)"
   ]
  },
  {
   "cell_type": "code",
   "execution_count": 162,
   "metadata": {},
   "outputs": [],
   "source": [
    "scores = []\n",
    "wrong = []\n",
    "\n",
    "for conversation in test_data:\n",
    "    true_y = conversation\n",
    "    pred_y = runtime_client.prediction.get_slot_prediction(app_id=app_id, slot_name=\"Production\", prediction_request={\"query\" : conversation[\"text\"]}).as_dict()\n",
    "\n",
    "    for entity in true_y.get('entityLabels'):\n",
    "\n",
    "        name = entity.get('entityName')\n",
    "        value = true_y.get('text')[entity.get('startCharIndex'):entity.get('endCharIndex')]\n",
    "\n",
    "        if pred_y.get('prediction').get('entities').get(name) is not None:\n",
    "            pred_value = re.sub(r'[^\\w\\s]','',pred_y.get('prediction').get('entities').get(name)[0])\n",
    "        else: pred_value = None\n",
    "\n",
    "        if value == pred_value:\n",
    "            scores.append(1)\n",
    "        else:\n",
    "            wrong.append(value)\n",
    "            wrong.append(pred_value)\n",
    "            scores.append(0)"
   ]
  },
  {
   "cell_type": "code",
   "execution_count": 157,
   "metadata": {},
   "outputs": [
    {
     "name": "stdout",
     "output_type": "stream",
     "text": [
      "sept 2\n",
      "sept 2\n",
      "9\n",
      "None\n",
      "5800\n",
      "5800\n",
      "la paz\n",
      "la paz\n",
      "ulsan\n",
      "None\n"
     ]
    }
   ],
   "source": [
    "index = 3\n",
    "\n",
    "true_y = test_data[index]\n",
    "pred_y = runtime_client.prediction.get_slot_prediction(app_id=app_id, slot_name=\"Production\", prediction_request={\"query\" : true_y[\"text\"]}).as_dict()\n",
    "\n",
    "for entity in true_y.get('entityLabels'):\n",
    "\n",
    "    name = entity.get('entityName')\n",
    "    value = true_y.get('text')[entity.get('startCharIndex'):entity.get('endCharIndex')]\n",
    "\n",
    "    if pred_y.get('prediction').get('entities').get(name) is not None:\n",
    "        pred_value = re.sub(r'[^\\w\\s]','',pred_y.get('prediction').get('entities').get(name)[0])\n",
    "    else: pred_value = None\n",
    "\n",
    "    print(value)\n",
    "    print(pred_value)"
   ]
  },
  {
   "cell_type": "code",
   "execution_count": 158,
   "metadata": {},
   "outputs": [
    {
     "data": {
      "text/plain": [
       "{'text': 'i am looking to explore some options for an upcoming internship. i have a week off from sept 2-9 to see where i’d like to spend my next 6 months\\ni have a 5800 budget and im leaving from la paz\\ncan you tell me whats available in ulsan',\n",
       " 'intentName': 'BookFlight',\n",
       " 'entityLabels': [{'entityName': 'str_date',\n",
       "   'startCharIndex': 88,\n",
       "   'endCharIndex': 94},\n",
       "  {'entityName': 'end_date', 'startCharIndex': 95, 'endCharIndex': 96},\n",
       "  {'entityName': 'budget', 'startCharIndex': 154, 'endCharIndex': 158},\n",
       "  {'entityName': 'or_city', 'startCharIndex': 186, 'endCharIndex': 192},\n",
       "  {'entityName': 'dst_city', 'startCharIndex': 228, 'endCharIndex': 233}]}"
      ]
     },
     "execution_count": 158,
     "metadata": {},
     "output_type": "execute_result"
    }
   ],
   "source": [
    "true_y"
   ]
  },
  {
   "cell_type": "code",
   "execution_count": 159,
   "metadata": {},
   "outputs": [
    {
     "data": {
      "text/plain": [
       "{'query': 'i am looking to explore some options for an upcoming internship. i have a week off from sept 2-9 to see where i’d like to spend my next 6 months\\ni have a 5800 budget and im leaving from la paz\\ncan you tell me whats available in ulsan',\n",
       " 'prediction': {'top_intent': 'BookFlight',\n",
       "  'intents': {'BookFlight': {'score': 0.99992037}},\n",
       "  'entities': {'datetimeV2': [{'type': 'duration',\n",
       "     'values': [{'timex': 'P1W', 'resolution': [{'value': '604800'}]}]},\n",
       "    {'type': 'daterange',\n",
       "     'values': [{'timex': '(XXXX-09-02,XXXX-09-09,P7D)',\n",
       "       'resolution': [{'start': '2022-09-02', 'end': '2022-09-09'},\n",
       "        {'start': '2023-09-02', 'end': '2023-09-09'}]}]},\n",
       "    {'type': 'daterange',\n",
       "     'values': [{'timex': '(2023-03-01,2023-09-01,P6M)',\n",
       "       'resolution': [{'start': '2023-03-01', 'end': '2023-09-01'}]}]}],\n",
       "   'str_date': ['sept 2-'],\n",
       "   'budget': ['5800'],\n",
       "   'or_city': ['la paz']}}}"
      ]
     },
     "execution_count": 159,
     "metadata": {},
     "output_type": "execute_result"
    }
   ],
   "source": [
    "pred_y"
   ]
  },
  {
   "cell_type": "code",
   "execution_count": 163,
   "metadata": {},
   "outputs": [
    {
     "data": {
      "text/plain": [
       "0.5824022346368715"
      ]
     },
     "execution_count": 163,
     "metadata": {},
     "output_type": "execute_result"
    }
   ],
   "source": [
    "sum(scores)/len(scores)"
   ]
  },
  {
   "cell_type": "code",
   "execution_count": 93,
   "metadata": {},
   "outputs": [
    {
     "data": {
      "text/plain": [
       "'{\"error\":{\"code\":\"BadArgument\",\"message\":\"labeled utterances cannot be null or empty.\"}}'"
      ]
     },
     "execution_count": 93,
     "metadata": {},
     "output_type": "execute_result"
    }
   ],
   "source": [
    "val_batch = [\n",
    "    {\n",
    "      'text': 'please book me a flight',\n",
    "      'intent': 'BookFlight',\n",
    "      'entities': []\n",
    "    }\n",
    "]\n",
    "\n",
    "data = str(val_batch)\n",
    "\n",
    "headers = {\n",
    "    'Content-Type': 'application/json',\n",
    "    'Ocp-Apim-Subscription-Key': predictionKey\n",
    "}\n",
    "\n",
    "slot_name = \"Production\"\n",
    "start_batch_endpoint = f'{predictionEndpoint}luis/v3.0-preview/apps/{app_id}/slots/{slot_name}/evaluations'\n",
    "\n",
    "start_response = requests.post(start_batch_endpoint, data=data, headers=headers)\n",
    "start_response.text\n"
   ]
  },
  {
   "cell_type": "code",
   "execution_count": 76,
   "metadata": {},
   "outputs": [
    {
     "name": "stdout",
     "output_type": "stream",
     "text": [
      "{'operationId': '64aa0133-97c4-4d09-aa54-1951f31196a5_638133120000000000', 'status': 'notstarted', 'createdDateTime': '03/02/2023 17:29:39', 'lastActionDateTime': '03/02/2023 17:29:39'}\n"
     ]
    }
   ],
   "source": [
    "print(start_response.json())"
   ]
  },
  {
   "cell_type": "code",
   "execution_count": 71,
   "metadata": {},
   "outputs": [
    {
     "data": {
      "text/plain": [
       "'{\"operationId\":\"55164c2b-aaa2-4b7d-8972-dcc01843b31f_638133120000000000\",\"status\":\"notstarted\",\"createdDateTime\":\"03/02/2023 17:27:22\",\"lastActionDateTime\":\"03/02/2023 17:27:22\"}'"
      ]
     },
     "execution_count": 71,
     "metadata": {},
     "output_type": "execute_result"
    }
   ],
   "source": [
    "start_response.text"
   ]
  },
  {
   "cell_type": "markdown",
   "metadata": {},
   "source": []
  },
  {
   "cell_type": "code",
   "execution_count": 104,
   "metadata": {},
   "outputs": [],
   "source": [
    "json = {\n",
    "    \"LabeledTestSetUtterances\": [\n",
    "        {\n",
    "            \"text\": \"book a ticket\",\n",
    "            \"intent\": \"BookFlight\",\n",
    "            \"entities\": []\n",
    "        }\n",
    "    ]\n",
    "}"
   ]
  },
  {
   "cell_type": "code",
   "execution_count": 9,
   "metadata": {},
   "outputs": [],
   "source": [
    "import requests"
   ]
  },
  {
   "cell_type": "code",
   "execution_count": 31,
   "metadata": {},
   "outputs": [
    {
     "data": {
      "text/plain": [
       "'{\"operationId\":\"c74cb33c-9eda-49dd-a3eb-fdb91b433303_638133984000000000\",\"status\":\"notstarted\",\"createdDateTime\":\"03/03/2023 14:47:22\",\"lastActionDateTime\":\"03/03/2023 14:47:22\"}'"
      ]
     },
     "execution_count": 31,
     "metadata": {},
     "output_type": "execute_result"
    }
   ],
   "source": [
    "data = str(json)\n",
    "\n",
    "headers = {\n",
    "    'Content-Type': 'application/json',\n",
    "    'Ocp-Apim-Subscription-Key': predictionKey\n",
    "}\n",
    "\n",
    "slot_name = \"Production\"\n",
    "start_batch_endpoint = f'{predictionEndpoint}luis/v3.0-preview/apps/{app_id}/slots/{slot_name}/evaluations'\n",
    "\n",
    "start_response = requests.post(start_batch_endpoint, data=data, headers=headers)\n",
    "start_response.text"
   ]
  },
  {
   "cell_type": "code",
   "execution_count": 40,
   "metadata": {},
   "outputs": [
    {
     "data": {
      "text/plain": [
       "'{\"operationId\":\"c74cb33c-9eda-49dd-a3eb-fdb91b433303_638133984000000000\",\"status\":\"succeeded\",\"createdDateTime\":\"03/03/2023 14:47:22\",\"lastActionDateTime\":\"03/03/2023 14:47:28\"}'"
      ]
     },
     "execution_count": 40,
     "metadata": {},
     "output_type": "execute_result"
    }
   ],
   "source": [
    "start_batch_endpoint = f'{predictionEndpoint}luis/v3.0-preview/apps/{app_id}/slots/{slot_name}/evaluations/c74cb33c-9eda-49dd-a3eb-fdb91b433303_638133984000000000/status'\n",
    "\n",
    "start_response = requests.get(start_batch_endpoint, headers=headers)\n",
    "start_response.text"
   ]
  },
  {
   "cell_type": "code",
   "execution_count": 41,
   "metadata": {},
   "outputs": [
    {
     "data": {
      "text/plain": [
       "<Response [200]>"
      ]
     },
     "execution_count": 41,
     "metadata": {},
     "output_type": "execute_result"
    }
   ],
   "source": [
    "start_response"
   ]
  },
  {
   "cell_type": "code",
   "execution_count": 42,
   "metadata": {},
   "outputs": [
    {
     "data": {
      "text/plain": [
       "{'operationId': 'c74cb33c-9eda-49dd-a3eb-fdb91b433303_638133984000000000',\n",
       " 'status': 'succeeded',\n",
       " 'createdDateTime': '03/03/2023 14:47:22',\n",
       " 'lastActionDateTime': '03/03/2023 14:47:28'}"
      ]
     },
     "execution_count": 42,
     "metadata": {},
     "output_type": "execute_result"
    }
   ],
   "source": [
    "start_response.json()"
   ]
  },
  {
   "cell_type": "code",
   "execution_count": 43,
   "metadata": {},
   "outputs": [
    {
     "data": {
      "text/plain": [
       "'{\"intentModelsStats\":[{\"modelName\":\"BookFlight\",\"modelType\":\"Intent Classifier\",\"precision\":1.0,\"recall\":1.0,\"fScore\":1.0},{\"modelName\":\"None\",\"modelType\":\"Intent Classifier\",\"precision\":\"NaN\",\"recall\":\"NaN\",\"fScore\":\"NaN\"}],\"entityModelsStats\":[{\"modelName\":\"budget\",\"modelType\":\"Entity Extractor\",\"precision\":\"NaN\",\"recall\":\"NaN\",\"fScore\":\"NaN\"},{\"modelName\":\"dst_city\",\"modelType\":\"Entity Extractor\",\"precision\":\"NaN\",\"recall\":\"NaN\",\"fScore\":\"NaN\"},{\"modelName\":\"end_date\",\"modelType\":\"Entity Extractor\",\"precision\":\"NaN\",\"recall\":\"NaN\",\"fScore\":\"NaN\"},{\"modelName\":\"or_city\",\"modelType\":\"Entity Extractor\",\"precision\":\"NaN\",\"recall\":\"NaN\",\"fScore\":\"NaN\"},{\"modelName\":\"str_date\",\"modelType\":\"Entity Extractor\",\"precision\":\"NaN\",\"recall\":\"NaN\",\"fScore\":\"NaN\"}],\"utterancesStats\":[{\"text\":\"book a ticket\",\"predictedIntentName\":\"BookFlight\",\"labeledIntentName\":\"BookFlight\",\"falsePositiveEntities\":[],\"falseNegativeEntities\":[]}]}'"
      ]
     },
     "execution_count": 43,
     "metadata": {},
     "output_type": "execute_result"
    }
   ],
   "source": [
    "start_batch_endpoint = f'{predictionEndpoint}luis/v3.0-preview/apps/{app_id}/slots/{slot_name}/evaluations/c74cb33c-9eda-49dd-a3eb-fdb91b433303_638133984000000000/result'\n",
    "\n",
    "start_response = requests.get(start_batch_endpoint, headers=headers)\n",
    "start_response.text"
   ]
  },
  {
   "cell_type": "code",
   "execution_count": null,
   "metadata": {},
   "outputs": [],
   "source": []
  },
  {
   "cell_type": "code",
   "execution_count": 19,
   "metadata": {},
   "outputs": [
    {
     "data": {
      "text/plain": [
       "<Response [202]>"
      ]
     },
     "execution_count": 19,
     "metadata": {},
     "output_type": "execute_result"
    }
   ],
   "source": [
    "start_response"
   ]
  },
  {
   "cell_type": "code",
   "execution_count": 26,
   "metadata": {},
   "outputs": [
    {
     "name": "stdout",
     "output_type": "stream",
     "text": [
      "Operation still in progress. Checking again in 30 seconds.\n",
      "notstarted\n",
      "Operation still in progress. Checking again in 30 seconds.\n",
      "notstarted\n",
      "Operation still in progress. Checking again in 30 seconds.\n",
      "notstarted\n",
      "Operation still in progress. Checking again in 30 seconds.\n",
      "notstarted\n",
      "Operation still in progress. Checking again in 30 seconds.\n",
      "notstarted\n",
      "Operation still in progress. Checking again in 30 seconds.\n",
      "notstarted\n",
      "Operation still in progress. Checking again in 30 seconds.\n",
      "notstarted\n"
     ]
    },
    {
     "ename": "KeyboardInterrupt",
     "evalue": "",
     "output_type": "error",
     "traceback": [
      "\u001b[0;31m---------------------------------------------------------------------------\u001b[0m",
      "\u001b[0;31mKeyboardInterrupt\u001b[0m                         Traceback (most recent call last)",
      "Cell \u001b[0;32mIn[26], line 17\u001b[0m\n\u001b[1;32m     15\u001b[0m     \u001b[39mprint\u001b[39m(\u001b[39m\"\u001b[39m\u001b[39mOperation still in progress. Checking again in 30 seconds.\u001b[39m\u001b[39m\"\u001b[39m)\n\u001b[1;32m     16\u001b[0m     \u001b[39mprint\u001b[39m(response\u001b[39m.\u001b[39mjson()\u001b[39m.\u001b[39mget(\u001b[39m\"\u001b[39m\u001b[39mstatus\u001b[39m\u001b[39m\"\u001b[39m))\n\u001b[0;32m---> 17\u001b[0m     time\u001b[39m.\u001b[39;49msleep(\u001b[39m30\u001b[39;49m)  \u001b[39m# Wait for 30 seconds before checking again\u001b[39;00m\n\u001b[1;32m     18\u001b[0m \u001b[39melse\u001b[39;00m:\n\u001b[1;32m     19\u001b[0m     \u001b[39mprint\u001b[39m(\u001b[39m\"\u001b[39m\u001b[39mError checking operation status. Status code: \u001b[39m\u001b[39m{}\u001b[39;00m\u001b[39m\"\u001b[39m\u001b[39m.\u001b[39mformat(response\u001b[39m.\u001b[39mstatus_code))\n",
      "\u001b[0;31mKeyboardInterrupt\u001b[0m: "
     ]
    }
   ],
   "source": [
    "# Poll the server for status\n",
    "status = \"notstarted\"\n",
    "while status != \"succeeded\":\n",
    "    response = requests.post(start_batch_endpoint, data=data, headers=headers)\n",
    "    if response.status_code == 200:\n",
    "        status = response.json().get(\"status\")\n",
    "        if status == \"succeeded\":\n",
    "            print(\"Operation succeeded!\")\n",
    "        elif status == \"failed\":\n",
    "            print(\"Operation failed.\")\n",
    "        else:\n",
    "            print(\"Operation still running. Status: {}\".format(status))\n",
    "        time.sleep(5)  # Wait for 5 seconds before checking again\n",
    "    elif response.status_code == 202:\n",
    "        print(\"Operation still in progress. Checking again in 30 seconds.\")\n",
    "        print(response.json().get(\"status\"))\n",
    "        time.sleep(30)  # Wait for 30 seconds before checking again\n",
    "    else:\n",
    "        print(\"Error checking operation status. Status code: {}\".format(response.status_code))\n",
    "        break"
   ]
  },
  {
   "cell_type": "code",
   "execution_count": 92,
   "metadata": {},
   "outputs": [],
   "source": [
    "with open(\"../data/test.json\", encoding=\"utf-8\") as f:\n",
    "    test_data = json.load(f)"
   ]
  },
  {
   "cell_type": "code",
   "execution_count": 171,
   "metadata": {},
   "outputs": [],
   "source": [
    "def convert_data_for_batch(data):\n",
    "    \n",
    "    for convo in data:\n",
    "        convo = str(convo)\n",
    "        convo = convo.replace(\"intentName\", \"intent\")\n",
    "        convo = convo.replace(\"entityLabels\", \"entities\")\n",
    "        convo = convo.replace(\"entityName\", \"entity\")\n",
    "        convo = convo.replace(\"startCharIndex\", \"startPos\")\n",
    "        convo = convo.replace(\"endCharIndex\", \"endPos\")\n",
    "        print(convo)\n",
    "    \n",
    "    return data\n",
    "\n",
    "    data = str(data)\n",
    "    #data = data.replace(\"intentName\", \"intent\")\n",
    "    #data = data.replace(\"entityLabels\", \"entities\")\n",
    "    #data = data.replace(\"entityName\", \"entity\")\n",
    "    #data = data.replace(\"startCharIndex\", \"startPos\")\n",
    "    #data = data.replace(\"endCharIndex\", \"endPos\")\n",
    "\n",
    "    #data = \"{\\\"LabeledTestSetUtterances\\\": [\" + data + \"]}\"\n",
    "\n",
    "    return data"
   ]
  },
  {
   "cell_type": "code",
   "execution_count": 172,
   "metadata": {},
   "outputs": [
    {
     "name": "stdout",
     "output_type": "stream",
     "text": [
      "text\n",
      "intent\n",
      "entities\n"
     ]
    },
    {
     "data": {
      "text/plain": [
       "{'text': \"hi there...this is my first time traveling and i'm so excited! i've lived in boston all my life and want to see the world\",\n",
       " 'intentName': 'BookFlight',\n",
       " 'entityLabels': [{'entityName': 'or_city',\n",
       "   'startCharIndex': 77,\n",
       "   'endCharIndex': 83}]}"
      ]
     },
     "execution_count": 172,
     "metadata": {},
     "output_type": "execute_result"
    }
   ],
   "source": [
    "convert_data_for_batch(test_data[0])"
   ]
  },
  {
   "cell_type": "code",
   "execution_count": 160,
   "metadata": {},
   "outputs": [
    {
     "data": {
      "text/plain": [
       "{'text': 'hey there, i need to book a trip to get away!',\n",
       " 'intentName': 'BookFlight',\n",
       " 'entityLabels': []}"
      ]
     },
     "execution_count": 160,
     "metadata": {},
     "output_type": "execute_result"
    }
   ],
   "source": [
    "convert_data_for_batch(test_data[1])"
   ]
  },
  {
   "cell_type": "code",
   "execution_count": 168,
   "metadata": {},
   "outputs": [
    {
     "data": {
      "text/plain": [
       "{'text': 'hi there! got anything from kabul to tel aviv?',\n",
       " 'intentName': 'BookFlight',\n",
       " 'entityLabels': [{'entityName': 'or_city',\n",
       "   'startCharIndex': 28,\n",
       "   'endCharIndex': 33},\n",
       "  {'entityName': 'dst_city', 'startCharIndex': 37, 'endCharIndex': 45}]}"
      ]
     },
     "execution_count": 168,
     "metadata": {},
     "output_type": "execute_result"
    }
   ],
   "source": [
    "test_data[2]"
   ]
  },
  {
   "cell_type": "code",
   "execution_count": 164,
   "metadata": {},
   "outputs": [
    {
     "data": {
      "text/plain": [
       "[{'text': \"hi there...this is my first time traveling and i'm so excited! i've lived in boston all my life and want to see the world\",\n",
       "  'intentName': 'BookFlight',\n",
       "  'entityLabels': [{'entityName': 'or_city',\n",
       "    'startCharIndex': 77,\n",
       "    'endCharIndex': 83}]},\n",
       " {'text': 'hey there, i need to book a trip to get away!',\n",
       "  'intentName': 'BookFlight',\n",
       "  'entityLabels': []}]"
      ]
     },
     "execution_count": 164,
     "metadata": {},
     "output_type": "execute_result"
    }
   ],
   "source": [
    "convert_data_for_batch(test_data[0:2])"
   ]
  },
  {
   "cell_type": "code",
   "execution_count": 146,
   "metadata": {},
   "outputs": [
    {
     "data": {
      "text/plain": [
       "{'text': 'hey there, i need to book a trip to get away!',\n",
       " 'intentName': 'BookFlight',\n",
       " 'entityLabels': []}"
      ]
     },
     "execution_count": 146,
     "metadata": {},
     "output_type": "execute_result"
    }
   ],
   "source": [
    "test_data[1]"
   ]
  },
  {
   "cell_type": "code",
   "execution_count": 147,
   "metadata": {},
   "outputs": [
    {
     "data": {
      "text/plain": [
       "'{\"LabeledTestSetUtterances\": [[{\\'text\\': \"hi there...this is my first time traveling and i\\'m so excited! i\\'ve lived in boston all my life and want to see the world\", \\'intent\\': \\'BookFlight\\', \\'entities\\': [{\\'entity\\': \\'or_city\\', \\'startPos\\': 77, \\'endPos\\': 83}]}, {\\'text\\': \\'hey there, i need to book a trip to get away!\\', \\'intent\\': \\'BookFlight\\', \\'entities\\': []}]]}'"
      ]
     },
     "execution_count": 147,
     "metadata": {},
     "output_type": "execute_result"
    }
   ],
   "source": [
    "convert_data_for_batch(test_data[0:2])\n"
   ]
  },
  {
   "cell_type": "code",
   "execution_count": 138,
   "metadata": {},
   "outputs": [
    {
     "data": {
      "text/plain": [
       "<Response [400]>"
      ]
     },
     "execution_count": 138,
     "metadata": {},
     "output_type": "execute_result"
    }
   ],
   "source": [
    "test_data_converted = convert_data_for_batch(test_data[0:1])\n",
    "\n",
    "headers = {\n",
    "    'Content-Type': 'application/json',\n",
    "    'Ocp-Apim-Subscription-Key': predictionKey\n",
    "}\n",
    "\n",
    "slot_name = \"Production\"\n",
    "start_batch_endpoint = f'{predictionEndpoint}luis/v3.0-preview/apps/{app_id}/slots/{slot_name}/evaluations'\n",
    "\n",
    "start_response = requests.post(start_batch_endpoint, data=test_data_converted.encode('utf-8'), headers=headers)\n",
    "start_response"
   ]
  },
  {
   "cell_type": "code",
   "execution_count": 139,
   "metadata": {},
   "outputs": [
    {
     "data": {
      "text/plain": [
       "'{\"error\":{\"code\":\"BadArgument\",\"message\":\"labeled utterances cannot be null or empty.\"}}'"
      ]
     },
     "execution_count": 139,
     "metadata": {},
     "output_type": "execute_result"
    }
   ],
   "source": [
    "start_response.text"
   ]
  },
  {
   "cell_type": "code",
   "execution_count": 95,
   "metadata": {},
   "outputs": [
    {
     "ename": "KeyError",
     "evalue": "'operationId'",
     "output_type": "error",
     "traceback": [
      "\u001b[0;31m---------------------------------------------------------------------------\u001b[0m",
      "\u001b[0;31mKeyError\u001b[0m                                  Traceback (most recent call last)",
      "Cell \u001b[0;32mIn[95], line 1\u001b[0m\n\u001b[0;32m----> 1\u001b[0m operationId \u001b[39m=\u001b[39m json\u001b[39m.\u001b[39;49mloads(start_response\u001b[39m.\u001b[39;49mtext)[\u001b[39m\"\u001b[39;49m\u001b[39moperationId\u001b[39;49m\u001b[39m\"\u001b[39;49m]\n",
      "\u001b[0;31mKeyError\u001b[0m: 'operationId'"
     ]
    }
   ],
   "source": [
    "operationId = json.loads(start_response.text)[\"operationId\"]"
   ]
  },
  {
   "cell_type": "code",
   "execution_count": null,
   "metadata": {},
   "outputs": [],
   "source": [
    "status_endpoint = f'{predictionEndpoint}luis/v3.0-preview/apps/{app_id}/slots/{slot_name}/evaluations/{operationId}/status'\n",
    "\n",
    "status_response = requests.get(status_endpoint, headers=headers)\n",
    "status_response.text"
   ]
  }
 ],
 "metadata": {
  "kernelspec": {
   "display_name": "Python 3",
   "language": "python",
   "name": "python3"
  },
  "language_info": {
   "codemirror_mode": {
    "name": "ipython",
    "version": 3
   },
   "file_extension": ".py",
   "mimetype": "text/x-python",
   "name": "python",
   "nbconvert_exporter": "python",
   "pygments_lexer": "ipython3",
   "version": "3.10.6"
  },
  "orig_nbformat": 4,
  "vscode": {
   "interpreter": {
    "hash": "31f2aee4e71d21fbe5cf8b01ff0e069b9275f58929596ceb00d14d90e3e16cd6"
   }
  }
 },
 "nbformat": 4,
 "nbformat_minor": 2
}
