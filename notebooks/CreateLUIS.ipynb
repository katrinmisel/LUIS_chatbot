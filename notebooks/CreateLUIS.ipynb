{
 "cells": [
  {
   "cell_type": "code",
   "execution_count": 5,
   "metadata": {},
   "outputs": [],
   "source": [
    "from azure.cognitiveservices.language.luis.authoring import LUISAuthoringClient\n",
    "from azure.cognitiveservices.language.luis.authoring.models import ApplicationCreateObject, ExampleLabelObject\n",
    "from azure.cognitiveservices.language.luis.runtime import LUISRuntimeClient\n",
    "from msrest.authentication import CognitiveServicesCredentials\n",
    "from functools import reduce\n",
    "\n",
    "import json, time, uuid\n",
    "\n",
    "import keys\n",
    "import requests\n",
    "import re"
   ]
  },
  {
   "cell_type": "code",
   "execution_count": 2,
   "metadata": {},
   "outputs": [],
   "source": [
    "authoringKey = keys.authoringKey\n",
    "authoringEndpoint = keys.authoringEndpoint\n",
    "predictionKey = keys.predictionKey\n",
    "predictionEndpoint = keys.predictionEndpoint"
   ]
  },
  {
   "cell_type": "code",
   "execution_count": 3,
   "metadata": {},
   "outputs": [],
   "source": [
    "client = LUISAuthoringClient(authoringEndpoint, CognitiveServicesCredentials(authoringKey))"
   ]
  },
  {
   "attachments": {},
   "cell_type": "markdown",
   "metadata": {},
   "source": [
    "## I. Creating LUIS"
   ]
  },
  {
   "cell_type": "code",
   "execution_count": 5,
   "metadata": {},
   "outputs": [
    {
     "name": "stdout",
     "output_type": "stream",
     "text": [
      "Created app.\n"
     ]
    }
   ],
   "source": [
    "app_id = client.apps.add({\n",
    "            'name': \"FlyMe\",\n",
    "            'initial_version_id':  \"0.1\",\n",
    "            'description': \"Flight booking chatbot app\",\n",
    "            'culture': 'en-us',\n",
    "        })\n",
    "\n",
    "print(\"Created app.\")"
   ]
  },
  {
   "cell_type": "code",
   "execution_count": 4,
   "metadata": {},
   "outputs": [],
   "source": [
    "app_id = \"db70b5ef-3103-46a0-aa92-7cbfd39c1439\""
   ]
  },
  {
   "cell_type": "code",
   "execution_count": 8,
   "metadata": {},
   "outputs": [],
   "source": [
    "luis_app = client.apps.get(app_id=app_id)\n",
    "\n",
    "app_version = luis_app.active_version"
   ]
  },
  {
   "cell_type": "code",
   "execution_count": 7,
   "metadata": {},
   "outputs": [],
   "source": [
    "entities = ['or_city', 'dst_city', 'str_date', 'end_date', 'budget']\n",
    "prebuilt_entities = ['datetimeV2']\n"
   ]
  },
  {
   "cell_type": "code",
   "execution_count": 8,
   "metadata": {},
   "outputs": [
    {
     "name": "stdout",
     "output_type": "stream",
     "text": [
      "Added intent BookFlight\n"
     ]
    }
   ],
   "source": [
    "# Create intent into the model\n",
    "intent_name = \"BookFlight\"\n",
    "\n",
    "client.model.add_intent(app_id, \"0.1\", \"BookFlight\")\n",
    "print(\"Added intent BookFlight\")"
   ]
  },
  {
   "cell_type": "code",
   "execution_count": 9,
   "metadata": {},
   "outputs": [
    {
     "name": "stdout",
     "output_type": "stream",
     "text": [
      "Added prebuilt entity datetimeV2\n"
     ]
    }
   ],
   "source": [
    "# add a prebuilt entity \"datetimeV2\" to the model\n",
    "\n",
    "client.model.add_prebuilt(\n",
    "    app_id=app_id,\n",
    "    version_id=app_version,\n",
    "    prebuilt_extractor_names=[\"datetimeV2\"]\n",
    ")\n",
    "print(\"Added prebuilt entity datetimeV2\")"
   ]
  },
  {
   "cell_type": "code",
   "execution_count": 11,
   "metadata": {},
   "outputs": [
    {
     "name": "stdout",
     "output_type": "stream",
     "text": [
      "Added entity or_city\n",
      "Added entity dst_city\n",
      "Added entity str_date\n",
      "Added entity end_date\n",
      "Added entity budget\n"
     ]
    }
   ],
   "source": [
    "# Create entities and entity features into the model\n",
    "for entity in entities:\n",
    "    client.model.add_entity(app_id, \"0.1\", name=entity)\n",
    "    print(\"Added entity {}\".format(entity))"
   ]
  },
  {
   "attachments": {},
   "cell_type": "markdown",
   "metadata": {},
   "source": [
    "## II. Testing LUIS"
   ]
  },
  {
   "cell_type": "code",
   "execution_count": 12,
   "metadata": {},
   "outputs": [],
   "source": [
    "with open(\"../data/train.json\") as f:\n",
    "    train_data = json.load(f)\n",
    "\n",
    "# send the training data to the service in chunks of 100\n",
    "\n",
    "for i in range(0, len(train_data), 100):\n",
    "    j = i + 100\n",
    "    if j > len(train_data):\n",
    "        j = len(train_data)\n",
    "\n",
    "        client.examples.batch(\n",
    "                    app_id,\n",
    "                    app_version,\n",
    "                    train_data[i:j]\n",
    "                )"
   ]
  },
  {
   "cell_type": "code",
   "execution_count": 13,
   "metadata": {},
   "outputs": [
    {
     "name": "stdout",
     "output_type": "stream",
     "text": [
      "Your app is trained. You can now go to the LUIS portal and test it!\n"
     ]
    }
   ],
   "source": [
    "async_training = client.train.train_version(app_id, app_version)\n",
    "is_trained = async_training.status == \"UpToDate\"\n",
    "\n",
    "trained_status = [\"UpToDate\", \"Success\"]\n",
    "while not is_trained:\n",
    "    time.sleep(1)\n",
    "    status = client.train.get_status(app_id, app_version)\n",
    "    is_trained = all(\n",
    "        m.details.status in trained_status for m in status)\n",
    "\n",
    "print(\"Your app is trained. You can now go to the LUIS portal and test it!\")"
   ]
  },
  {
   "cell_type": "code",
   "execution_count": 15,
   "metadata": {},
   "outputs": [
    {
     "name": "stdout",
     "output_type": "stream",
     "text": [
      "The app is published.\n"
     ]
    }
   ],
   "source": [
    "# Publish the app\n",
    "client.apps.update_settings(app_id, is_public=True)\n",
    "publish_result = client.apps.publish(app_id, app_version, is_staging=False)\n",
    "\n",
    "endpoint = publish_result.endpoint_url + \\\n",
    "            \"?subscription-key=\" + predictionKey + \"&q=\"\n",
    "\n",
    "print(\"The app is published.\")"
   ]
  },
  {
   "cell_type": "code",
   "execution_count": 42,
   "metadata": {},
   "outputs": [
    {
     "name": "stdout",
     "output_type": "stream",
     "text": [
      "\n",
      "Detected intent: BookFlight\n",
      "Detected entities:\n",
      "\t-> Entity '['Strasbourg']' (type: or_city)\n",
      "\t-> Entity '['London']' (type: dst_city)\n",
      "\t-> Entity '[{'type': 'daterange', 'values': [{'timex': '(2019-10-10,2019-10-15,P5D)', 'resolution': [{'start': '2019-10-10', 'end': '2019-10-15'}]}]}]' (type: datetimeV2)\n",
      "\t-> Entity '['200 euros']' (type: budget)\n",
      "\n",
      "Complete result object as dictionnary\n",
      "{'query': 'I want to book a flight from Strasbourg to London from 10/10/2019 to 15/10/2019 for 200 euros', 'prediction': {'top_intent': 'BookFlight', 'intents': {'BookFlight': {'score': 0.99955165}}, 'entities': {'or_city': ['Strasbourg'], 'dst_city': ['London'], 'datetimeV2': [{'type': 'daterange', 'values': [{'timex': '(2019-10-10,2019-10-15,P5D)', 'resolution': [{'start': '2019-10-10', 'end': '2019-10-15'}]}]}], 'budget': ['200 euros']}}}\n"
     ]
    }
   ],
   "source": [
    "runtime_client = LUISRuntimeClient(predictionEndpoint, CognitiveServicesCredentials(predictionKey))\n",
    "\n",
    "request = {\n",
    "    \"query\" : \"I want to book a flight from Strasbourg to London from 10/10/2019 to 15/10/2019 for 200 euros\"\n",
    "}\n",
    "result = runtime_client.prediction.get_slot_prediction(app_id=app_id, slot_name=\"Production\", prediction_request=request)\n",
    "\n",
    "print(\"\\nDetected intent: {}\".format(\n",
    "            result.prediction.top_intent\n",
    "        ))\n",
    "print(\"Detected entities:\")\n",
    "for entity in result.prediction.entities:\n",
    "    print(\"\\t-> Entity '{}' (type: {})\".format(\n",
    "        result.prediction.entities.get(entity),\n",
    "        entity\n",
    "    ))\n",
    "print(\"\\nComplete result object as dictionnary\")\n",
    "print(result.as_dict())"
   ]
  },
  {
   "attachments": {},
   "cell_type": "markdown",
   "metadata": {},
   "source": [
    "Since LUIS is not so good at extracting str_date and end_date, we create a function to extract these values using the datetimeV2 prebuilt entity and search_dates from dateparser."
   ]
  },
  {
   "cell_type": "code",
   "execution_count": 59,
   "metadata": {},
   "outputs": [
    {
     "name": "stdout",
     "output_type": "stream",
     "text": [
      "Start date: 2019-10-10\n",
      "End date: 2019-10-15\n"
     ]
    }
   ],
   "source": [
    "def date_extractor(luis_res):\n",
    "    res_dict = luis_res.as_dict()\n",
    "    dt = res_dict['prediction']['entities'].get('datetimeV2')\n",
    "\n",
    "    if dt[0]['type'] == 'daterange':\n",
    "        print(\"Start date: {}\".format(dt[0].get('values')[0].get('resolution')[0].get('start')))\n",
    "        print(\"End date: {}\".format(dt[0].get('values')[0].get('resolution')[0].get('end')))\n",
    "\n",
    "date_extractor(result)"
   ]
  },
  {
   "attachments": {},
   "cell_type": "markdown",
   "metadata": {},
   "source": [
    "## III. Evaluating LUIS"
   ]
  },
  {
   "cell_type": "code",
   "execution_count": 65,
   "metadata": {},
   "outputs": [],
   "source": [
    "with open(\"../data/test.json\", encoding=\"utf-8\") as f:\n",
    "    test_data = json.load(f)"
   ]
  },
  {
   "cell_type": "code",
   "execution_count": 66,
   "metadata": {},
   "outputs": [],
   "source": [
    "new_data = {\n",
    "    \"LabeledTestSetUtterances\": [\n",
    "        {\n",
    "            \"text\": d[\"text\"],\n",
    "            \"intent\": d[\"intentName\"],\n",
    "            \"entities\": [\n",
    "                {\n",
    "                    \"entity\": label[\"entityName\"],\n",
    "                    \"startPos\": label[\"startCharIndex\"],\n",
    "                    \"endPos\": label[\"endCharIndex\"]\n",
    "                } for label in d[\"entityLabels\"]\n",
    "            ]\n",
    "        } for d in test_data\n",
    "    ]\n",
    "}\n",
    "\n",
    "new_json = json.dumps(new_data)"
   ]
  },
  {
   "cell_type": "code",
   "execution_count": 73,
   "metadata": {},
   "outputs": [],
   "source": [
    "with open('data.json', 'w') as f:\n",
    "    json.dump(new_data, f)"
   ]
  },
  {
   "cell_type": "code",
   "execution_count": 67,
   "metadata": {},
   "outputs": [
    {
     "data": {
      "text/plain": [
       "'{\"operationId\":\"e252e9b0-f578-4282-bce0-3fd3866dfa1a_638137440000000000\",\"status\":\"notstarted\",\"createdDateTime\":\"03/07/2023 20:02:17\",\"lastActionDateTime\":\"03/07/2023 20:02:17\"}'"
      ]
     },
     "execution_count": 67,
     "metadata": {},
     "output_type": "execute_result"
    }
   ],
   "source": [
    "data = str(new_json)\n",
    "\n",
    "headers = {\n",
    "    'Content-Type': 'application/json',\n",
    "    'Ocp-Apim-Subscription-Key': predictionKey\n",
    "}\n",
    "\n",
    "slot_name = \"Production\"\n",
    "start_batch_endpoint = f'{predictionEndpoint}luis/v3.0-preview/apps/{app_id}/slots/{slot_name}/evaluations'\n",
    "\n",
    "start_response = requests.post(start_batch_endpoint, data=data, headers=headers)\n",
    "start_response.text"
   ]
  },
  {
   "cell_type": "code",
   "execution_count": 68,
   "metadata": {},
   "outputs": [
    {
     "name": "stdout",
     "output_type": "stream",
     "text": [
      "{\"operationId\":\"e252e9b0-f578-4282-bce0-3fd3866dfa1a_638137440000000000\",\"status\":\"succeeded\",\"createdDateTime\":\"03/07/2023 20:02:17\",\"lastActionDateTime\":\"03/07/2023 20:02:23\"}\n",
      "<Response [200]>\n"
     ]
    }
   ],
   "source": [
    "start_batch_endpoint = f'{predictionEndpoint}luis/v3.0-preview/apps/{app_id}/slots/{slot_name}/evaluations/e252e9b0-f578-4282-bce0-3fd3866dfa1a_638137440000000000/status'\n",
    "\n",
    "start_response = requests.get(start_batch_endpoint, headers=headers)\n",
    "print(start_response.text)\n",
    "print(start_response)"
   ]
  },
  {
   "cell_type": "code",
   "execution_count": 69,
   "metadata": {},
   "outputs": [
    {
     "data": {
      "text/plain": [
       "{'operationId': 'e252e9b0-f578-4282-bce0-3fd3866dfa1a_638137440000000000',\n",
       " 'status': 'succeeded',\n",
       " 'createdDateTime': '03/07/2023 20:02:17',\n",
       " 'lastActionDateTime': '03/07/2023 20:02:23'}"
      ]
     },
     "execution_count": 69,
     "metadata": {},
     "output_type": "execute_result"
    }
   ],
   "source": [
    "start_response.json()"
   ]
  },
  {
   "cell_type": "code",
   "execution_count": 70,
   "metadata": {},
   "outputs": [],
   "source": [
    "start_batch_endpoint = f'{predictionEndpoint}luis/v3.0-preview/apps/{app_id}/slots/{slot_name}/evaluations/e252e9b0-f578-4282-bce0-3fd3866dfa1a_638137440000000000/result'\n",
    "\n",
    "start_response = requests.get(start_batch_endpoint, headers=headers)"
   ]
  },
  {
   "cell_type": "code",
   "execution_count": 71,
   "metadata": {},
   "outputs": [
    {
     "data": {
      "text/plain": [
       "[{'modelName': 'BookFlight',\n",
       "  'modelType': 'Intent Classifier',\n",
       "  'precision': 1.0,\n",
       "  'recall': 0.99,\n",
       "  'fScore': 1.0},\n",
       " {'modelName': 'None',\n",
       "  'modelType': 'Intent Classifier',\n",
       "  'precision': 0.0,\n",
       "  'recall': 'NaN',\n",
       "  'fScore': 'NaN'}]"
      ]
     },
     "execution_count": 71,
     "metadata": {},
     "output_type": "execute_result"
    }
   ],
   "source": [
    "start_response.json().get('intentModelsStats')"
   ]
  },
  {
   "cell_type": "code",
   "execution_count": 72,
   "metadata": {},
   "outputs": [
    {
     "data": {
      "text/plain": [
       "[{'modelName': 'budget',\n",
       "  'modelType': 'Entity Extractor',\n",
       "  'precision': 0.4,\n",
       "  'recall': 0.55,\n",
       "  'fScore': 0.46},\n",
       " {'modelName': 'dst_city',\n",
       "  'modelType': 'Entity Extractor',\n",
       "  'precision': 0.39,\n",
       "  'recall': 0.55,\n",
       "  'fScore': 0.46},\n",
       " {'modelName': 'end_date',\n",
       "  'modelType': 'Entity Extractor',\n",
       "  'precision': 0.26,\n",
       "  'recall': 0.52,\n",
       "  'fScore': 0.35},\n",
       " {'modelName': 'or_city',\n",
       "  'modelType': 'Entity Extractor',\n",
       "  'precision': 0.43,\n",
       "  'recall': 0.56,\n",
       "  'fScore': 0.49},\n",
       " {'modelName': 'str_date',\n",
       "  'modelType': 'Entity Extractor',\n",
       "  'precision': 0.36,\n",
       "  'recall': 0.55,\n",
       "  'fScore': 0.43}]"
      ]
     },
     "execution_count": 72,
     "metadata": {},
     "output_type": "execute_result"
    }
   ],
   "source": [
    "start_response.json().get('entityModelsStats')"
   ]
  }
 ],
 "metadata": {
  "kernelspec": {
   "display_name": "Python 3",
   "language": "python",
   "name": "python3"
  },
  "language_info": {
   "codemirror_mode": {
    "name": "ipython",
    "version": 3
   },
   "file_extension": ".py",
   "mimetype": "text/x-python",
   "name": "python",
   "nbconvert_exporter": "python",
   "pygments_lexer": "ipython3",
   "version": "3.10.6"
  },
  "orig_nbformat": 4,
  "vscode": {
   "interpreter": {
    "hash": "31f2aee4e71d21fbe5cf8b01ff0e069b9275f58929596ceb00d14d90e3e16cd6"
   }
  }
 },
 "nbformat": 4,
 "nbformat_minor": 2
}
