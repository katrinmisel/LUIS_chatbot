{
 "cells": [
  {
   "cell_type": "code",
   "execution_count": 1,
   "metadata": {},
   "outputs": [],
   "source": [
    "from azure.cognitiveservices.language.luis.authoring import LUISAuthoringClient\n",
    "from azure.cognitiveservices.language.luis.authoring.models import ApplicationCreateObject, ExampleLabelObject\n",
    "from azure.cognitiveservices.language.luis.runtime import LUISRuntimeClient\n",
    "from msrest.authentication import CognitiveServicesCredentials\n",
    "from functools import reduce\n",
    "\n",
    "import json, time, uuid\n",
    "\n",
    "import keys"
   ]
  },
  {
   "cell_type": "code",
   "execution_count": 2,
   "metadata": {},
   "outputs": [],
   "source": [
    "authoringKey = keys.authoringKey\n",
    "authoringEndpoint = keys.authoringEndpoint\n",
    "predictionKey = keys.predictionKey\n",
    "predictionEndpoint = keys.predictionEndpoint\n",
    "app_id = keys.app_id"
   ]
  },
  {
   "cell_type": "code",
   "execution_count": 3,
   "metadata": {},
   "outputs": [],
   "source": [
    "client = LUISAuthoringClient(authoringEndpoint, CognitiveServicesCredentials(authoringKey))"
   ]
  },
  {
   "cell_type": "code",
   "execution_count": 46,
   "metadata": {},
   "outputs": [
    {
     "name": "stdout",
     "output_type": "stream",
     "text": [
      "Created app.\n"
     ]
    }
   ],
   "source": [
    "app_id = client.apps.add({\n",
    "            'name': \"FlyMe\",\n",
    "            'initial_version_id':  \"0.1\",\n",
    "            'description': \"Flight booking chatbot app\",\n",
    "            'culture': 'en-us',\n",
    "        })\n",
    "\n",
    "print(\"Created app.\")"
   ]
  },
  {
   "cell_type": "code",
   "execution_count": 4,
   "metadata": {},
   "outputs": [],
   "source": [
    "luis_app = client.apps.get(app_id=app_id)\n",
    "\n",
    "app_version = luis_app.active_version"
   ]
  },
  {
   "cell_type": "code",
   "execution_count": 16,
   "metadata": {},
   "outputs": [],
   "source": [
    "entities = ['or_city', 'dst_city', 'str_date', 'end_date', 'budget']\n",
    "prebuilt_entities = ['datetimeV2', 'money', 'geographyV2']\n",
    "entities_map = {\n",
    "    'or_city': 'geographyV2',\n",
    "    'dst_city': 'geographyV2',\n",
    "    'str_date': 'datetimeV2',\n",
    "    'end_date': 'datetimeV2',\n",
    "    'budget': 'money'\n",
    "}"
   ]
  },
  {
   "cell_type": "code",
   "execution_count": 19,
   "metadata": {},
   "outputs": [
    {
     "name": "stdout",
     "output_type": "stream",
     "text": [
      "Added intent BookFlight\n"
     ]
    }
   ],
   "source": [
    "# Create intent into the model\n",
    "intent_name = \"BookFlight\"\n",
    "\n",
    "client.model.add_intent(app_id, \"0.1\", \"BookFlight\")\n",
    "print(\"Added intent BookFlight\")"
   ]
  },
  {
   "cell_type": "code",
   "execution_count": null,
   "metadata": {},
   "outputs": [],
   "source": [
    "# add a prebuilt entity \"datetimeV2\" to the model\n",
    "\n",
    "client.model.add_prebuilt(\n",
    "    app_id=app_id,\n",
    "    version_id=app_version,\n",
    "    prebuilt_extractor_names=[\"datetimeV2\"]\n",
    ")\n",
    "print(\"Added prebuilt entity datetimeV2\")"
   ]
  },
  {
   "cell_type": "code",
   "execution_count": 51,
   "metadata": {},
   "outputs": [
    {
     "name": "stdout",
     "output_type": "stream",
     "text": [
      "Added entity or_city\n",
      "Added entity dst_city\n",
      "Added entity str_date\n",
      "Added entity end_date\n",
      "Added entity budget\n"
     ]
    }
   ],
   "source": [
    "# Create entities and entity features into the model\n",
    "for entity in entities:\n",
    "    client.model.add_entity(app_id, \"0.1\", entity)\n",
    "    print(\"Added entity {}\".format(entity))"
   ]
  },
  {
   "cell_type": "code",
   "execution_count": 14,
   "metadata": {},
   "outputs": [
    {
     "ename": "AttributeError",
     "evalue": "'ModelOperations' object has no attribute 'add_prebuilt_entity_role'",
     "output_type": "error",
     "traceback": [
      "\u001b[0;31m---------------------------------------------------------------------------\u001b[0m",
      "\u001b[0;31mAttributeError\u001b[0m                            Traceback (most recent call last)",
      "Cell \u001b[0;32mIn[14], line 3\u001b[0m\n\u001b[1;32m      1\u001b[0m \u001b[39m# add datetime feature to \"str_date\" and \"end_date\"\u001b[39;00m\n\u001b[0;32m----> 3\u001b[0m client\u001b[39m.\u001b[39;49mmodel\u001b[39m.\u001b[39;49madd_prebuilt_entity_role(\n\u001b[1;32m      4\u001b[0m     app_id\u001b[39m=\u001b[39mapp_id,\n\u001b[1;32m      5\u001b[0m     version_id\u001b[39m=\u001b[39mapp_version,\n\u001b[1;32m      6\u001b[0m     prebuilt_entity_extractor_name\u001b[39m=\u001b[39m\u001b[39m\"\u001b[39m\u001b[39mdatetimeV2\u001b[39m\u001b[39m\"\u001b[39m,\n\u001b[1;32m      7\u001b[0m     role_name\u001b[39m=\u001b[39m\u001b[39m\"\u001b[39m\u001b[39mdatetime\u001b[39m\u001b[39m\"\u001b[39m,\n\u001b[1;32m      8\u001b[0m     feature_name\u001b[39m=\u001b[39m\u001b[39m\"\u001b[39m\u001b[39mstr_date\u001b[39m\u001b[39m\"\u001b[39m\n\u001b[1;32m      9\u001b[0m )\n",
      "\u001b[0;31mAttributeError\u001b[0m: 'ModelOperations' object has no attribute 'add_prebuilt_entity_role'"
     ]
    }
   ],
   "source": [
    "# add datetime feature to \"str_date\" and \"end_date\"\n",
    "\n",
    "client.model.add_prebuilt_entity_role(\n",
    "    app_id=app_id,\n",
    "    version_id=app_version,\n",
    "    prebuilt_entity_extractor_name=\"datetimeV2\",\n",
    "    role_name=\"datetime\",\n",
    "    feature_name=\"str_date\"\n",
    ")"
   ]
  },
  {
   "cell_type": "code",
   "execution_count": 20,
   "metadata": {},
   "outputs": [],
   "source": [
    "with open(\"../data/train.json\") as f:\n",
    "    train_data = json.load(f)\n",
    "\n",
    "# send the training data to the service in chunks of 100\n",
    "\n",
    "for i in range(0, len(train_data), 100):\n",
    "    j = i + 100\n",
    "    if j > len(train_data):\n",
    "        j = len(train_data)\n",
    "\n",
    "        client.examples.batch(\n",
    "                    app_id,\n",
    "                    app_version,\n",
    "                    train_data[i:j]\n",
    "                )"
   ]
  },
  {
   "cell_type": "code",
   "execution_count": 21,
   "metadata": {},
   "outputs": [
    {
     "name": "stdout",
     "output_type": "stream",
     "text": [
      "Your app is trained. You can now go to the LUIS portal and test it!\n"
     ]
    }
   ],
   "source": [
    "async_training = client.train.train_version(app_id, app_version)\n",
    "is_trained = async_training.status == \"UpToDate\"\n",
    "\n",
    "trained_status = [\"UpToDate\", \"Success\"]\n",
    "while not is_trained:\n",
    "    time.sleep(1)\n",
    "    status = client.train.get_status(app_id, app_version)\n",
    "    is_trained = all(\n",
    "        m.details.status in trained_status for m in status)\n",
    "\n",
    "print(\"Your app is trained. You can now go to the LUIS portal and test it!\")"
   ]
  },
  {
   "cell_type": "code",
   "execution_count": 22,
   "metadata": {},
   "outputs": [
    {
     "ename": "ErrorResponseException",
     "evalue": "Operation returned an invalid status code 'Bad Request'",
     "output_type": "error",
     "traceback": [
      "\u001b[0;31m---------------------------------------------------------------------------\u001b[0m",
      "\u001b[0;31mErrorResponseException\u001b[0m                    Traceback (most recent call last)",
      "Cell \u001b[0;32mIn[22], line 1\u001b[0m\n\u001b[0;32m----> 1\u001b[0m publish_result \u001b[39m=\u001b[39m client\u001b[39m.\u001b[39;49mapps\u001b[39m.\u001b[39;49mpublish(\n\u001b[1;32m      2\u001b[0m     app_id,\n\u001b[1;32m      3\u001b[0m     {\n\u001b[1;32m      4\u001b[0m         \u001b[39m'\u001b[39;49m\u001b[39mversion_id\u001b[39;49m\u001b[39m'\u001b[39;49m: app_version,\n\u001b[1;32m      5\u001b[0m         \u001b[39m'\u001b[39;49m\u001b[39mis_staging\u001b[39;49m\u001b[39m'\u001b[39;49m: \u001b[39mFalse\u001b[39;49;00m,\n\u001b[1;32m      6\u001b[0m         \u001b[39m'\u001b[39;49m\u001b[39mregion\u001b[39;49m\u001b[39m'\u001b[39;49m: \u001b[39m'\u001b[39;49m\u001b[39mwesteurope\u001b[39;49m\u001b[39m'\u001b[39;49m\n\u001b[1;32m      7\u001b[0m     }\n\u001b[1;32m      8\u001b[0m )\n",
      "File \u001b[0;32m~/.local/lib/python3.10/site-packages/azure/cognitiveservices/language/luis/authoring/operations/apps_operations.py:707\u001b[0m, in \u001b[0;36mAppsOperations.publish\u001b[0;34m(self, app_id, version_id, is_staging, custom_headers, raw, **operation_config)\u001b[0m\n\u001b[1;32m    704\u001b[0m response \u001b[39m=\u001b[39m \u001b[39mself\u001b[39m\u001b[39m.\u001b[39m_client\u001b[39m.\u001b[39msend(request, stream\u001b[39m=\u001b[39m\u001b[39mFalse\u001b[39;00m, \u001b[39m*\u001b[39m\u001b[39m*\u001b[39moperation_config)\n\u001b[1;32m    706\u001b[0m \u001b[39mif\u001b[39;00m response\u001b[39m.\u001b[39mstatus_code \u001b[39mnot\u001b[39;00m \u001b[39min\u001b[39;00m [\u001b[39m201\u001b[39m, \u001b[39m207\u001b[39m]:\n\u001b[0;32m--> 707\u001b[0m     \u001b[39mraise\u001b[39;00m models\u001b[39m.\u001b[39mErrorResponseException(\u001b[39mself\u001b[39m\u001b[39m.\u001b[39m_deserialize, response)\n\u001b[1;32m    709\u001b[0m deserialized \u001b[39m=\u001b[39m \u001b[39mNone\u001b[39;00m\n\u001b[1;32m    711\u001b[0m \u001b[39mif\u001b[39;00m response\u001b[39m.\u001b[39mstatus_code \u001b[39m==\u001b[39m \u001b[39m201\u001b[39m:\n",
      "\u001b[0;31mErrorResponseException\u001b[0m: Operation returned an invalid status code 'Bad Request'"
     ]
    }
   ],
   "source": [
    "publish_result = client.apps.publish(\n",
    "    app_id,\n",
    "    {\n",
    "        'version_id': app_version,\n",
    "        'is_staging': False,\n",
    "        'region': 'westeurope'\n",
    "    }\n",
    ")"
   ]
  },
  {
   "cell_type": "code",
   "execution_count": 10,
   "metadata": {},
   "outputs": [
    {
     "name": "stdout",
     "output_type": "stream",
     "text": [
      "\n",
      "Detected intent: BookFlight (score: 99%)\n",
      "Detected entities:\n",
      "\t-> Entity '200 euros' (type: budget, score:69%)\n",
      "\t-> Entity 'london' (type: dst_city, score:93%)\n",
      "\t-> Entity 'strasbourg' (type: or_city, score:99%)\n",
      "\n",
      "Complete result object as dictionnary\n",
      "{'query': 'I want to book a flight from Strasbourg to London from 10/10/2019 to 15/10/2019 for 200 euros', 'top_scoring_intent': {'intent': 'BookFlight', 'score': 0.99955165}, 'entities': [{'score': 0.69389737, 'entity': '200 euros', 'type': 'budget', 'start_index': 84, 'end_index': 92}, {'score': 0.9351498, 'entity': 'london', 'type': 'dst_city', 'start_index': 43, 'end_index': 48}, {'score': 0.9905306, 'entity': 'strasbourg', 'type': 'or_city', 'start_index': 29, 'end_index': 38}]}\n"
     ]
    }
   ],
   "source": [
    "runtime_client = LUISRuntimeClient(predictionEndpoint, CognitiveServicesCredentials(predictionKey))\n",
    "\n",
    "query = \"I want to book a flight from Strasbourg to London from 10/10/2019 to 15/10/2019 for 200 euros\"\n",
    "result = runtime_client.prediction.resolve(app_id, query)\n",
    "\n",
    "print(\"\\nDetected intent: {} (score: {:d}%)\".format(\n",
    "            result.top_scoring_intent.intent,\n",
    "            int(result.top_scoring_intent.score*100)\n",
    "        ))\n",
    "print(\"Detected entities:\")\n",
    "for entity in result.entities:\n",
    "    print(\"\\t-> Entity '{}' (type: {}, score:{:d}%)\".format(\n",
    "        entity.entity,\n",
    "        entity.type,\n",
    "        int(entity.additional_properties['score']*100)\n",
    "    ))\n",
    "print(\"\\nComplete result object as dictionnary\")\n",
    "print(result.as_dict())"
   ]
  },
  {
   "attachments": {},
   "cell_type": "markdown",
   "metadata": {},
   "source": [
    "## Evaluating the model"
   ]
  },
  {
   "cell_type": "code",
   "execution_count": 16,
   "metadata": {},
   "outputs": [],
   "source": [
    "with open(\"test.json\") as f:\n",
    "    test_data = json.load(f)"
   ]
  },
  {
   "cell_type": "code",
   "execution_count": 40,
   "metadata": {},
   "outputs": [
    {
     "data": {
      "text/plain": [
       "{'text': 'hi there! got anything from kabul to tel aviv?',\n",
       " 'intentName': 'BookFlight',\n",
       " 'entityLabels': [{'entityName': 'or_city',\n",
       "   'startCharIndex': 28,\n",
       "   'endCharIndex': 33},\n",
       "  {'entityName': 'dst_city', 'startCharIndex': 37, 'endCharIndex': 45}]}"
      ]
     },
     "execution_count": 40,
     "metadata": {},
     "output_type": "execute_result"
    }
   ],
   "source": [
    "test_data[2]"
   ]
  },
  {
   "cell_type": "code",
   "execution_count": 46,
   "metadata": {},
   "outputs": [
    {
     "data": {
      "text/plain": [
       "{'query': 'hi there! got anything from kabul to tel aviv?',\n",
       " 'top_scoring_intent': {'intent': 'BookFlight', 'score': 0.9975568},\n",
       " 'entities': [{'score': 0.7219019,\n",
       "   'entity': 'tel aviv ?',\n",
       "   'type': 'dst_city',\n",
       "   'start_index': 37,\n",
       "   'end_index': 45},\n",
       "  {'score': 0.99454474,\n",
       "   'entity': 'kabul',\n",
       "   'type': 'or_city',\n",
       "   'start_index': 28,\n",
       "   'end_index': 32}]}"
      ]
     },
     "execution_count": 46,
     "metadata": {},
     "output_type": "execute_result"
    }
   ],
   "source": [
    "result = runtime_client.prediction.resolve(app_id, test_data[2][\"text\"])\n",
    "dict_result = result.as_dict()\n",
    "dict_result"
   ]
  },
  {
   "cell_type": "code",
   "execution_count": 62,
   "metadata": {},
   "outputs": [],
   "source": [
    "keys = list(dict_result['entities'][0].keys())"
   ]
  },
  {
   "cell_type": "code",
   "execution_count": 63,
   "metadata": {},
   "outputs": [
    {
     "data": {
      "text/plain": [
       "['score', 'entity', 'type', 'start_index', 'end_index']"
      ]
     },
     "execution_count": 63,
     "metadata": {},
     "output_type": "execute_result"
    }
   ],
   "source": [
    "keys"
   ]
  }
 ],
 "metadata": {
  "kernelspec": {
   "display_name": "Python 3",
   "language": "python",
   "name": "python3"
  },
  "language_info": {
   "codemirror_mode": {
    "name": "ipython",
    "version": 3
   },
   "file_extension": ".py",
   "mimetype": "text/x-python",
   "name": "python",
   "nbconvert_exporter": "python",
   "pygments_lexer": "ipython3",
   "version": "3.10.6"
  },
  "orig_nbformat": 4,
  "vscode": {
   "interpreter": {
    "hash": "916dbcbb3f70747c44a77c7bcd40155683ae19c65e1c03b4aa3499c5328201f1"
   }
  }
 },
 "nbformat": 4,
 "nbformat_minor": 2
}
