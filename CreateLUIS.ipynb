{
 "cells": [
  {
   "cell_type": "code",
   "execution_count": 92,
   "metadata": {},
   "outputs": [],
   "source": [
    "from azure.cognitiveservices.language.luis.authoring import LUISAuthoringClient\n",
    "from azure.cognitiveservices.language.luis.authoring.models import ApplicationCreateObject\n",
    "from azure.cognitiveservices.language.luis.runtime import LUISRuntimeClient\n",
    "from msrest.authentication import CognitiveServicesCredentials\n",
    "from functools import reduce\n",
    "\n",
    "import json, time, uuid\n",
    "\n",
    "import keys"
   ]
  },
  {
   "cell_type": "code",
   "execution_count": 93,
   "metadata": {},
   "outputs": [],
   "source": [
    "authoringKey = keys.authoringKey\n",
    "authoringEndpoint = keys.authoringEndpoint\n",
    "predictionKey = keys.predictionKey\n",
    "predictionEndpoint = keys.predictionEndpoint"
   ]
  },
  {
   "cell_type": "code",
   "execution_count": 64,
   "metadata": {},
   "outputs": [],
   "source": [
    "client = LUISAuthoringClient(authoringEndpoint, CognitiveServicesCredentials(authoringKey))"
   ]
  },
  {
   "cell_type": "code",
   "execution_count": 98,
   "metadata": {},
   "outputs": [
    {
     "name": "stdout",
     "output_type": "stream",
     "text": [
      "Created app.\n"
     ]
    }
   ],
   "source": [
    "app_id = client.apps.add({\n",
    "            'name': \"FlyMe\",\n",
    "            'initial_version_id':  \"0.1\",\n",
    "            'description': \"Flight booking chatbot app\",\n",
    "            'culture': 'en-us',\n",
    "        })\n",
    "\n",
    "print(\"Created app.\")"
   ]
  },
  {
   "cell_type": "code",
   "execution_count": 66,
   "metadata": {},
   "outputs": [],
   "source": [
    "luis_app = client.apps.get(app_id=app_id)\n",
    "\n",
    "app_version = luis_app.active_version"
   ]
  },
  {
   "cell_type": "code",
   "execution_count": 67,
   "metadata": {},
   "outputs": [],
   "source": [
    "entities = ['or_city', 'dst_city', 'str_date', 'end_date', 'budget']"
   ]
  },
  {
   "cell_type": "code",
   "execution_count": 68,
   "metadata": {},
   "outputs": [],
   "source": [
    "# Create intent into the model\n",
    "intent_name = \"BookFlight\""
   ]
  },
  {
   "cell_type": "code",
   "execution_count": 70,
   "metadata": {},
   "outputs": [
    {
     "name": "stdout",
     "output_type": "stream",
     "text": [
      "or_city entity created with id 6e2767fa-8120-49f8-a471-91366393b82f\n",
      "dst_city entity created with id b253bc4b-a48d-470c-bc3f-b6ae46e60772\n",
      "str_date entity created with id 5f8525af-9b4b-4897-b9a4-75f3ecd540c5\n",
      "end_date entity created with id 742f04b1-2777-4471-876c-1acc6f359f5b\n",
      "budget entity created with id 5eca51f6-b89a-4602-b880-f481237b5322\n"
     ]
    }
   ],
   "source": [
    "# Create entities and entity features into the model\n",
    "for entity in entities:\n",
    "    entity_id = client.model.add_entity(app_id, app_version, name=entity)\n",
    "    print(f\"{entity} entity created with id {entity_id}\")"
   ]
  },
  {
   "cell_type": "code",
   "execution_count": 69,
   "metadata": {},
   "outputs": [
    {
     "name": "stdout",
     "output_type": "stream",
     "text": [
      "BookFlight intent created with id 5aba285a-c3ba-48f0-bb38-124d66830d10\n"
     ]
    }
   ],
   "source": [
    "intent_id = client.model.add_intent(app_id, app_version, name=intent_name)\n",
    "print(f\"{intent_name} intent created with id {intent_id}\")"
   ]
  },
  {
   "cell_type": "code",
   "execution_count": 71,
   "metadata": {},
   "outputs": [],
   "source": [
    "with open(\"train.json\") as f:\n",
    "    train_data = json.load(f)"
   ]
  },
  {
   "cell_type": "code",
   "execution_count": 96,
   "metadata": {},
   "outputs": [
    {
     "data": {
      "text/plain": [
       "[{'text': 'we want to go to las vegas from portland. 2 adults',\n",
       "  'intentName': 'BookFlight',\n",
       "  'entityLabels': [{'entityName': 'dst_city',\n",
       "    'startCharIndex': 17,\n",
       "    'endCharIndex': 26},\n",
       "   {'entityName': 'or_city', 'startCharIndex': 32, 'endCharIndex': 40}]},\n",
       " {'text': 'hi, i need some help comparing a few different trips. can you help me with that?',\n",
       "  'intentName': 'BookFlight',\n",
       "  'entityLabels': []},\n",
       " {'text': 'listen up! im marrying my boo on saturday, and afterwards her and i want to have the best honeymoon 4600 can buy\\nget us to kyoto will ya?',\n",
       "  'intentName': 'BookFlight',\n",
       "  'entityLabels': [{'entityName': 'dst_city',\n",
       "    'startCharIndex': 123,\n",
       "    'endCharIndex': 128},\n",
       "   {'entityName': 'budget', 'startCharIndex': 100, 'endCharIndex': 104}]},\n",
       " {'text': 'well i am currently living permanently in a cubicle on the 8th floor of a building in puebla but i want to pretend i am somewhere else instead. fly me to leon please\\nwhats the fanciest place i can go to for 3600',\n",
       "  'intentName': 'BookFlight',\n",
       "  'entityLabels': [{'entityName': 'or_city',\n",
       "    'startCharIndex': 86,\n",
       "    'endCharIndex': 92},\n",
       "   {'entityName': 'dst_city', 'startCharIndex': 154, 'endCharIndex': 158},\n",
       "   {'entityName': 'budget', 'startCharIndex': 207, 'endCharIndex': 211}]},\n",
       " {'text': 'i would like to go to somewhere, dont know where tho. i would need to leave from sl and i have 10 days vacation',\n",
       "  'intentName': 'BookFlight',\n",
       "  'entityLabels': [{'entityName': 'or_city',\n",
       "    'startCharIndex': 81,\n",
       "    'endCharIndex': 83}]}]"
      ]
     },
     "execution_count": 96,
     "metadata": {},
     "output_type": "execute_result"
    }
   ],
   "source": [
    "train_data[0:5]"
   ]
  },
  {
   "cell_type": "code",
   "execution_count": 73,
   "metadata": {},
   "outputs": [],
   "source": [
    "# send the training data to the service in chunks of 100\n",
    "\n",
    "for i in range(0, len(train_data), 100):\n",
    "    j = i + 100\n",
    "    if j > len(train_data):\n",
    "        j = len(train_data)\n",
    "\n",
    "    client.examples.batch(\n",
    "                app_id,\n",
    "                app_version,\n",
    "                train_data[i:j]\n",
    "            )"
   ]
  },
  {
   "cell_type": "code",
   "execution_count": 74,
   "metadata": {},
   "outputs": [
    {
     "name": "stdout",
     "output_type": "stream",
     "text": [
      "Waiting 10 seconds for training to complete...\n",
      "Waiting 10 seconds for training to complete...\n",
      "Training completed.\n"
     ]
    }
   ],
   "source": [
    "# Train the LUIS application\n",
    "\n",
    "client.train.train_version(app_id, app_version)\n",
    "waiting=True\n",
    "while waiting:\n",
    "    info = client.train.get_status(app_id, app_version)\n",
    "    waiting = any(map(lambda x: 'Queued' == x.details.status or 'InProgress' == x.details.status, info))\n",
    "    if waiting:\n",
    "        print(\"Waiting 10 seconds for training to complete...\")\n",
    "        time.sleep(10)\n",
    "    else:\n",
    "        print(\"Training completed.\")\n",
    "        waiting = False"
   ]
  },
  {
   "cell_type": "code",
   "execution_count": 95,
   "metadata": {},
   "outputs": [],
   "source": [
    "# publish the LUIS application\n",
    "\n",
    "publish_result = client.apps.publish(app_id, app_version, is_staging=False, region=\"west-europe\")\n",
    "endpoint = publish_result.endpoint_url + \"?subscription-key=\" + predictionKey + \"&q=\""
   ]
  },
  {
   "cell_type": "code",
   "execution_count": 83,
   "metadata": {},
   "outputs": [
    {
     "data": {
      "text/plain": [
       "{'or_city': ['new york'], 'dst_city': ['florida'], 'budget': ['1000$']}"
      ]
     },
     "execution_count": 83,
     "metadata": {},
     "output_type": "execute_result"
    }
   ],
   "source": [
    "runtime_credentials = CognitiveServicesCredentials(predictionKey)\n",
    "client_runtime = LUISRuntimeClient(endpoint=predictionEndpoint, credentials=runtime_credentials)\n",
    "\n",
    "predictionRequest = {\"query\" : \"I want a trip from new york to florida from 10/10/2019 to 10/20/2019 with a budget of 1000$\"}\n",
    "\n",
    "predictionResponse = client_runtime.prediction.get_slot_prediction(app_id=app_id, slot_name=\"Production\", prediction_request=predictionRequest)\n",
    "\n",
    "predictionResponse.prediction.entities"
   ]
  }
 ],
 "metadata": {
  "kernelspec": {
   "display_name": "chatbot",
   "language": "python",
   "name": "python3"
  },
  "language_info": {
   "codemirror_mode": {
    "name": "ipython",
    "version": 3
   },
   "file_extension": ".py",
   "mimetype": "text/x-python",
   "name": "python",
   "nbconvert_exporter": "python",
   "pygments_lexer": "ipython3",
   "version": "3.10.6 (main, Nov 14 2022, 16:10:14) [GCC 11.3.0]"
  },
  "orig_nbformat": 4,
  "vscode": {
   "interpreter": {
    "hash": "6462fd34db7404f00e0c9e2eedd6a1987aad8d29007ab90c2ddd087a41cec890"
   }
  }
 },
 "nbformat": 4,
 "nbformat_minor": 2
}
